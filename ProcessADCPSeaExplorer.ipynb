{
 "cells": [
  {
   "cell_type": "markdown",
   "id": "658174b5",
   "metadata": {},
   "source": [
    "# I. Settings and initialisation\n",
    "## 1.1. Paths"
   ]
  },
  {
   "cell_type": "code",
   "execution_count": null,
   "id": "06f79d0c-da98-45dd-a9d8-11d3a7c85518",
   "metadata": {},
   "outputs": [],
   "source": [
    "### OMAN DATASETS\n",
    "\n",
    "adcp_path = 'D:/Storage/VOTO_ADCP/Bornholm/sea063_M22.ad2cp.00000.nc'\n",
    "filename = 'D:/Storage/Dropbox/Jupyter/Data/Bornholm_SEA063_M22.pqt'\n",
    "top_mounted = True"
   ]
  },
  {
   "cell_type": "code",
   "execution_count": null,
   "id": "03e7584c",
   "metadata": {
    "collapsed": false,
    "jupyter": {
     "outputs_hidden": false
    },
    "pycharm": {
     "is_executing": true,
     "name": "#%%\n"
    }
   },
   "outputs": [],
   "source": [
    "### OMAN DATASETS\n",
    "\n",
    "# adcp_path = 'D:/Storage/Dropbox/WorkGU/21-06 Oman HAB Deployments/Deployments/211105_Dep1_post/ADCP_proc/sea057_M35_1.ad2cp.00000*.nc'\n",
    "# filename = 'D:/Storage/Dropbox/WorkGU/21-06 Oman HAB Deployments/Deployments/211105_Dep1_post/Oman_deployment_1.pqt'\n",
    "# top_mounted = False\n",
    "\n",
    "# adcp_path = 'D:/Storage/Dropbox/WorkGU/21-06 Oman HAB Deployments/Deployments/211118_Dep2_post/ADCP/sea057_M38.ad2cp.00000*.nc'\n",
    "# filename = 'D:/Storage/Dropbox/WorkGU/21-06 Oman HAB Deployments/Deployments/211118_Dep2_post/Oman_deployment_2.pqt'\n",
    "# top_mounted = False\n",
    "\n",
    "# adcp_path = 'D:/Storage/Dropbox/WorkGU/21-06 Oman HAB Deployments/Deployments/211220_Dep3_post/ADCP/sea057_M40.ad2cp.00000*.nc'\n",
    "# filename = 'D:/Storage/Dropbox/WorkGU/21-06 Oman HAB Deployments/Deployments/211220_Dep3_post/Oman_deployment_3.pqt'\n",
    "# top_mounted = False\n",
    "\n",
    "# adcp_path = 'D:/Storage/Dropbox/WorkGU/21-06 Oman HAB Deployments/Deployments/220126_Dep4_post/ADCP/sea057_M43.ad2cp.00000*.nc'\n",
    "# filename = 'D:/Storage/Dropbox/WorkGU/21-06 Oman HAB Deployments/Deployments/*220126_Dep4_post/Oman_deployment_4.pqt'\n",
    "# top_mounted = False"
   ]
  },
  {
   "cell_type": "markdown",
   "id": "117eaf07-8c72-4817-aff9-aed4c5a66770",
   "metadata": {},
   "source": [
    "## 1.2. Imports"
   ]
  },
  {
   "cell_type": "code",
   "execution_count": null,
   "id": "ee5691e0",
   "metadata": {
    "collapsed": false,
    "jupyter": {
     "outputs_hidden": false
    },
    "pycharm": {
     "name": "#%%\n"
    }
   },
   "outputs": [],
   "source": [
    "import importlib, os, gc, sys\n",
    "from glob import glob\n",
    "\n",
    "sys.path.append(r'D:/Storage/Repositories/SeaExplorerTools')\n",
    "import SXBQ as sx\n",
    "import BYQtools as byq\n",
    "\n",
    "from tqdm.notebook import tqdm\n",
    "\n",
    "import numpy as np\n",
    "import pandas as pd\n",
    "import xarray as xr\n",
    "from scipy.interpolate import interp1d\n",
    "from scipy.optimize import fsolve, fmin\n",
    "from scipy.signal import convolve as conv\n",
    "\n",
    "import gsw\n",
    "\n",
    "import matplotlib.pyplot as plt\n",
    "import seaborn as sns\n",
    "import cmocean.cm as cmo"
   ]
  },
  {
   "cell_type": "markdown",
   "id": "6b34a2e4-5179-4c7a-8f39-c59a1ace3253",
   "metadata": {},
   "source": [
    "## 1.3. Settings"
   ]
  },
  {
   "cell_type": "code",
   "execution_count": null,
   "id": "2aaaedfb",
   "metadata": {
    "collapsed": false,
    "jupyter": {
     "outputs_hidden": false
    },
    "pycharm": {
     "name": "#%%\n"
    }
   },
   "outputs": [],
   "source": [
    "warnings.filterwarnings(action='ignore', message='Mean of empty slice')\n",
    "\n",
    "sns.set(font='Franklin Gothic Book',\n",
    "        rc={\n",
    "         'axes.axisbelow': False,\n",
    "         'axes.edgecolor': 'Black',\n",
    "         'axes.facecolor': 'lightgrey',\n",
    "         'axes.grid': False,\n",
    "         'axes.labelcolor': 'darkgrey',\n",
    "         'axes.spines.right': True,\n",
    "         'axes.spines.top': True,\n",
    "         'figure.facecolor': 'white',\n",
    "         'lines.solid_capstyle': 'round',\n",
    "         'patch.edgecolor': 'k',\n",
    "         'patch.force_edgecolor': True,\n",
    "         'text.color': 'dimgrey',\n",
    "         'xtick.bottom': False,\n",
    "         'xtick.color': 'dimgrey',\n",
    "         'xtick.direction': 'out',\n",
    "         'xtick.top': False,\n",
    "         'ytick.color': 'dimgrey',\n",
    "         'ytick.direction': 'out',\n",
    "         'ytick.left': False,\n",
    "         'ytick.right': False},\n",
    "         font_scale=1)"
   ]
  },
  {
   "cell_type": "markdown",
   "id": "1db80e52-60ef-4b2f-a9c0-c4803d4bf291",
   "metadata": {},
   "source": [
    "## 1.4. Helper functions"
   ]
  },
  {
   "cell_type": "code",
   "execution_count": null,
   "id": "4b44facd",
   "metadata": {
    "collapsed": false,
    "jupyter": {
     "outputs_hidden": false
    },
    "pycharm": {
     "name": "#%%\n"
    }
   },
   "outputs": [],
   "source": [
    "def RunningMedian(x,N):\n",
    "    grid = np.ones((len(x)+2*N, 1 + 2*N ))*np.NaN\n",
    "    for istep in range(np.shape(grid)[1]):\n",
    "        grid[istep:len(x)+istep, istep] = x\n",
    "    return np.nanmedian(grid,axis=1)[N:-N]\n",
    "\n",
    "def RunningMax(x,N):\n",
    "    grid = np.ones((len(x)+2*N, 1 + 2*N ))*np.NaN\n",
    "    for istep in range(np.shape(grid)[1]):\n",
    "        grid[istep:len(x)+istep, istep] = x\n",
    "    return np.nanmax(grid,axis=1)[N:-N]\n",
    "\n",
    "def RunningMin(x,N):\n",
    "    grid = np.ones((len(x)+2*N, 1 + 2*N ))*np.NaN\n",
    "    for istep in range(np.shape(grid)[1]):\n",
    "        grid[istep:len(x)+istep, istep] = x\n",
    "    return np.nanmin(grid,axis=1)[N:-N]\n",
    "\n",
    "def RunningMean(x,N):\n",
    "    grid = np.ones((len(x)+2*N, 1 + 2*N ))*np.NaN\n",
    "    for istep in range(np.shape(grid)[1]):\n",
    "        grid[istep:len(x)+istep, istep] = x\n",
    "    return np.nanmean(grid,axis=1)[N:-N]\n",
    "\n",
    "def interp(x,y,xi):\n",
    "    _gg = np.isfinite(x+y)\n",
    "    return interp1d(x[_gg], y[_gg], bounds_error=False, fill_value=np.NaN)(xi)\n",
    "\n",
    "def rmsd(x):\n",
    "    return np.sqrt(np.nanmean(x**2))"
   ]
  },
  {
   "cell_type": "markdown",
   "id": "e385ddea",
   "metadata": {},
   "source": [
    "# II. Load glider data"
   ]
  },
  {
   "cell_type": "code",
   "execution_count": null,
   "id": "0ece3494",
   "metadata": {
    "collapsed": false,
    "jupyter": {
     "outputs_hidden": false
    },
    "pycharm": {
     "name": "#%%\n"
    }
   },
   "outputs": [],
   "source": [
    "importlib.reload(sx)\n",
    "# data = sx.sxdf(['D:/Storage/Dropbox/WorkGU/21-06 Oman HAB Deployments/Deployments/211220_Dep3_post/PLD/logs/sea057.40.pld1.raw*.gz',\n",
    "#                 'D:/Storage/Dropbox/WorkGU/21-06 Oman HAB Deployments/Deployments/211220_Dep3_post/NAV/logs/sea057.40.gli.sub*.gz'])\n",
    "# data.process_basic_variables()\n",
    "# data.save('D:/Storage/Dropbox/WorkGU/21-06 Oman HAB Deployments/Deployments/211220_Dep3_post/Oman_deployment_3.pqt')\n",
    "data = sx.load(filename)\n",
    "data.process_basic_variables()"
   ]
  },
  {
   "cell_type": "markdown",
   "id": "c8b9bb59",
   "metadata": {},
   "source": [
    "# III. QC and basic processing"
   ]
  },
  {
   "cell_type": "markdown",
   "id": "a198151b-71e6-4bad-adfb-a440e8fa6879",
   "metadata": {},
   "source": [
    "## 3.1. Profiles and phases"
   ]
  },
  {
   "cell_type": "code",
   "execution_count": null,
   "id": "a6bf854c",
   "metadata": {
    "collapsed": false,
    "jupyter": {
     "outputs_hidden": false
    },
    "pycharm": {
     "name": "#%%\n"
    }
   },
   "outputs": [],
   "source": [
    "def delimitateProfiles():\n",
    "\n",
    "    #data.data.sort_values('Timestamp', ignore_index=True, inplace=True)\n",
    "    data.median_resample()\n",
    "\n",
    "    _gd = np.isfinite(data.data['diveNum'].values)\n",
    "    _, _tmp = np.unique( np.round(data.data['diveNum'].values[_gd]) ,return_inverse=True)\n",
    "\n",
    "    data.data.loc[_gd,'diveNum'] = np.round(_tmp+1)\n",
    "    data.data['diveNum'] = data.data['diveNum'].interpolate('nearest')\n",
    "        \n",
    "    data.data['profileNum'] = data.data['diveNum'].values*2\n",
    "    _tmp = data.data['NAV_RESOURCE'].interpolate('nearest').values\n",
    "    ind = (_tmp == 100) | (_tmp == 110) | (_tmp == 116)\n",
    "    data.data.loc[ind,'profileNum'] = data.data.loc[ind,'profileNum'] - 1\n",
    "\n",
    "delimitateProfiles()"
   ]
  },
  {
   "cell_type": "markdown",
   "id": "12b5184f-b09b-405c-bfac-d5888cacf714",
   "metadata": {
    "tags": []
   },
   "source": [
    "## 3.2. T & S\n",
    "### 3.2.a. Correct RBR pressure bias for this series"
   ]
  },
  {
   "cell_type": "code",
   "execution_count": null,
   "id": "b2f8e46c-538a-4662-952d-23cc289ad0e2",
   "metadata": {},
   "outputs": [],
   "source": [
    "def RBR_correction():\n",
    "    X2 = 1.8e-06\n",
    "    X3 = -9.472e-10\n",
    "    X4= 2.112e-13\n",
    "    Cmeas = data.data.LEGATO_CONDUCTIVITY.values\n",
    "    Pmeas = data.data.LEGATO_PRESSURE.values\n",
    "    data.data.LEGATO_CONDUCTIVITY =  Cmeas / (1 + X2*Pmeas + X3*Pmeas**2 + X4*Pmeas**3)\n",
    "    data.data.LEGATO_SALINITY = gsw.SP_from_C(data.data.LEGATO_CONDUCTIVITY.values, data.data.LEGATO_TEMPERATURE.values, Pmeas)\n",
    "    print('PRESSURE CORRECTED SALINITY DATA')\n",
    "    \n",
    "RBR_correction()"
   ]
  },
  {
   "cell_type": "markdown",
   "id": "2ce2cd8a-8613-4959-8d37-bec5053eaa06",
   "metadata": {},
   "source": [
    "### 3.2.b. TS Lag correction"
   ]
  },
  {
   "cell_type": "code",
   "execution_count": null,
   "id": "fccc659d-bb7a-41f2-8bb8-398501652a5e",
   "metadata": {
    "collapsed": false,
    "jupyter": {
     "outputs_hidden": false
    },
    "pycharm": {
     "name": "#%%\n"
    }
   },
   "outputs": [],
   "source": [
    "data = sx.correctSalinityGarau(data) #, coefs=[0.01423066,0.02662347,10.94762768,2.79346268])"
   ]
  },
  {
   "cell_type": "code",
   "execution_count": null,
   "id": "002066f8-c376-4e7e-a829-20206b8e52f3",
   "metadata": {},
   "outputs": [],
   "source": [
    "plt.figure(figsize=(15,10))\n",
    "\n",
    "dives = data.data.diveNum.values\n",
    "dives = np.unique(dives[np.isfinite(dives)])\n",
    "dives = np.percentile(dives,[20,40,60,80])\n",
    "\n",
    "plt.subplot(221)\n",
    "dn = data.data.diveNum==dives[0]\n",
    "plt.plot(data.data.LEGATO_SALINITY[dn],data.data.LEGATO_TEMPERATURE[dn],'-r')\n",
    "plt.plot(data.data.salinity[dn],data.data.temperature[dn],'-b',alpha=0.8)\n",
    "#plt.xlim([35.5,39])\n",
    "\n",
    "plt.subplot(222)\n",
    "dn = data.data.diveNum==dives[1]\n",
    "plt.plot(data.data.LEGATO_SALINITY[dn],data.data.LEGATO_TEMPERATURE[dn],'-r')\n",
    "plt.plot(data.data.salinity[dn],data.data.temperature[dn],'-b',alpha=0.8)\n",
    "#plt.xlim([35.5,39])\n",
    "\n",
    "plt.subplot(223)\n",
    "dn = data.data.diveNum==dives[2]\n",
    "plt.plot(data.data.LEGATO_SALINITY[dn],data.data.LEGATO_TEMPERATURE[dn],'-r')\n",
    "plt.plot(data.data.salinity[dn],data.data.temperature[dn],'-b',alpha=0.8)\n",
    "#plt.xlim([35.5,39])\n",
    "\n",
    "plt.subplot(224)\n",
    "dn = data.data.diveNum==dives[3]\n",
    "plt.plot(data.data.LEGATO_SALINITY[dn],data.data.LEGATO_TEMPERATURE[dn],'-r')\n",
    "plt.plot(data.data.salinity[dn],data.data.temperature[dn],'-b',alpha=0.8)\n",
    "#plt.xlim([35.5,39])"
   ]
  },
  {
   "cell_type": "markdown",
   "id": "4deda719-7930-4d84-bc86-15a54d2d7ea5",
   "metadata": {
    "jupyter": {
     "outputs_hidden": false
    },
    "pycharm": {
     "name": "#%%\n"
    }
   },
   "source": [
    "## 3.3. Calculate derived variables"
   ]
  },
  {
   "cell_type": "code",
   "execution_count": null,
   "id": "7fbd3628",
   "metadata": {
    "collapsed": false,
    "jupyter": {
     "outputs_hidden": false
    },
    "pycharm": {
     "name": "#%%\n"
    }
   },
   "outputs": [],
   "source": [
    "# Ancillary variables\n",
    "def _correct_basic_variables(data):\n",
    "    data['sa'] = gsw.SA_from_SP(data['salinity'],data['LEGATO_PRESSURE'],data['longitude'],data['latitude'])\n",
    "    data['ct'] = gsw.CT_from_t(data['sa'],data['temperature'],data['LEGATO_PRESSURE'])\n",
    "    data['sigma0'] = gsw.sigma0(data['sa'],data['ct'])\n",
    "    \n",
    "    try:\n",
    "        data['BB700_smoothed'] = data['FLBBPE_BB_700_SCALED'].copy()\n",
    "        _gd = np.isfinite(data['FLBBPE_BB_700_SCALED'])\n",
    "        data.loc[_gd,'BB700_smoothed'] = conv(RunningMin(data['FLBBPE_BB_700_SCALED'][_gd],3),np.ones(7)/7,mode='same')\n",
    "    except:\n",
    "        print('No backscatter data')\n",
    "        \n",
    "    data['date_float'] = data.Timestamp.values.astype('float')\n",
    "    return data\n",
    "\n",
    "data.data = _correct_basic_variables(data.data)"
   ]
  },
  {
   "cell_type": "markdown",
   "id": "dee11cad-4bca-4a46-b256-56278f708464",
   "metadata": {
    "jupyter": {
     "outputs_hidden": false
    },
    "pycharm": {
     "name": "#%%\n"
    }
   },
   "source": [
    "## 3.4. Oxygen (TODO)"
   ]
  },
  {
   "cell_type": "code",
   "execution_count": null,
   "id": "f876ac95-2667-45a9-8cf4-d85564689308",
   "metadata": {},
   "outputs": [],
   "source": [
    "# Oxygen todo\n",
    "# missing lag correction\n",
    "\n",
    "def _correct_basic_variables(data):\n",
    "    o2_sol = gsw.O2sol(data['sa'],data['ct'],data['LEGATO_PRESSURE'],data['longitude'],data['latitude'])\n",
    "    o2_sat =  data['AROD_FT_DO'] / gsw.O2sol( data['sa']*0, data['AROD_FT_TEMP'], data['LEGATO_PRESSURE']*0,data['longitude'],data['latitude'])\n",
    "    data['o2'] = o2_sat * o2_sol\n",
    "    return data\n",
    "    \n",
    "data.data = _correct_basic_variables(data.data)"
   ]
  },
  {
   "cell_type": "markdown",
   "id": "7658fba6-f21e-465a-9675-57374c0b6b05",
   "metadata": {
    "jupyter": {
     "outputs_hidden": false
    },
    "pycharm": {
     "name": "#%%\n"
    }
   },
   "source": [
    "## 3.5. Define gridding axis"
   ]
  },
  {
   "cell_type": "code",
   "execution_count": null,
   "id": "98021f80-8b03-46a5-93cd-043445aa5d03",
   "metadata": {},
   "outputs": [],
   "source": [
    "y_res = 1\n",
    "yaxis = np.arange(0,np.nanmax(np.ceil(data.data.LEGATO_PRESSURE.values)),y_res)\n",
    "xaxis = data.data.date_float.groupby(data.data.profileNum).agg('mean').index\n",
    "taxis = pd.to_datetime(data.data.date_float.groupby(data.data.profileNum).agg('mean').values)\n",
    "days = np.unique(data.data.Timestamp.round('D'))\n",
    "   \n",
    "out = {}"
   ]
  },
  {
   "cell_type": "markdown",
   "id": "3e63bf0e",
   "metadata": {
    "tags": []
   },
   "source": [
    "# IV. ADCP Data Processing"
   ]
  },
  {
   "cell_type": "markdown",
   "id": "09d6d400",
   "metadata": {},
   "source": [
    "## 4.1. Load"
   ]
  },
  {
   "cell_type": "code",
   "execution_count": null,
   "id": "fde4d937-9da5-4b72-bb50-2438b92339bb",
   "metadata": {
    "collapsed": false,
    "jupyter": {
     "outputs_hidden": false
    },
    "pycharm": {
     "name": "#%%\n"
    }
   },
   "outputs": [],
   "source": [
    "ADCP = xr.open_mfdataset(adcp_path,group='Data/Average')\n",
    "ADCP_settings = xr.open_mfdataset(glob(adcp_path)[0],group='Config')\n",
    "bin_size = ADCP_settings.attrs['avg_cellSize']\n",
    "blanking_distance = ADCP_settings.attrs['avg_blankingDistance']"
   ]
  },
  {
   "cell_type": "code",
   "execution_count": null,
   "id": "ff87615b-c780-42dc-8e5b-47a20a534fcc",
   "metadata": {
    "collapsed": false,
    "jupyter": {
     "outputs_hidden": false
    },
    "pycharm": {
     "name": "#%%\n"
    }
   },
   "outputs": [],
   "source": [
    "ADCP = ADCP.assign_coords(\n",
    "    Latitude=(\"time\", \n",
    "              interp( data.data['Timestamp'].values.astype('float'), data.data['latitude'], ADCP.time.values.astype('float') ) ))\n",
    "\n",
    "ADCP = ADCP.assign_coords(\n",
    "    profileNum=(\"time\", \n",
    "                np.round(interp(data.data['Timestamp'].values.astype('float'), data.data['profileNum'], ADCP.time.values.astype('float'))) ))\n",
    "\n",
    "ADCP = ADCP.assign_coords(\n",
    "    Depth=(\"time\", -gsw.z_from_p(ADCP['Pressure'].values,ADCP['Latitude'].values)))\n",
    "\n",
    "ADCP = ADCP.assign_coords(\n",
    "    bin=(\"Velocity Range\", np.arange(len(ADCP['Velocity Range'].values))))\n",
    "\n",
    "ADCP = ADCP.swap_dims({'Velocity Range':'bin'})"
   ]
  },
  {
   "cell_type": "markdown",
   "id": "b763d922-1dc6-4f5b-81e8-739b6eb4ee13",
   "metadata": {},
   "source": [
    "## 4.2. QC and correction"
   ]
  },
  {
   "cell_type": "markdown",
   "id": "bf59f898-33f3-4703-b1fe-82f65b4dd6ca",
   "metadata": {},
   "source": [
    "### 4.2.a. Heading correction"
   ]
  },
  {
   "cell_type": "code",
   "execution_count": null,
   "id": "201062c2-94e4-414f-8df7-024485653eb4",
   "metadata": {
    "tags": []
   },
   "outputs": [],
   "source": [
    "# # Get local geomagnetic target strength:\n",
    "def getGeoMagStrength():    \n",
    "    lat = np.nanmedian(data.data.latitude)\n",
    "    lon = np.nanmedian(data.data.longitude)\n",
    "    date = pd.to_datetime(np.nanmean(data.data.Timestamp.values.astype('float')))\n",
    "    year = date.year\n",
    "    month = date.month\n",
    "    day = date.day\n",
    "\n",
    "    url = str('https://www.ngdc.noaa.gov/geomag-web/calculators/calculateIgrfwmm?'+\n",
    "          'lat1='+str(lat)+'&lon1='+str(lon)+\n",
    "          '&startYear='+str(year)+'&endYear='+str(year)+\n",
    "          '&startMonth='+str(month)+'&endMonth='+str(month)+\n",
    "          '&startDay='+str(day)+'&endDay='+str(day)+\n",
    "          '&resultFormat=csv')\n",
    "\n",
    "    import urllib\n",
    "    magdata = urllib.request.urlopen(url)\n",
    "    string = 'empty'\n",
    "    while not not string:\n",
    "        out = magdata.readline().decode(\"utf-8\")\n",
    "        if not out:\n",
    "            break\n",
    "        string = out\n",
    "    target = float(string.split(',')[4])\n",
    "    nT2milligauss = 10**-9 * 10000 * 1000 # To tesla, then to gauss then to millgauss\n",
    "    print(target*nT2milligauss)\n",
    "    return target*nT2milligauss\n"
   ]
  },
  {
   "cell_type": "code",
   "execution_count": null,
   "id": "7b24c89b-7512-496c-9a12-66a1611fede2",
   "metadata": {},
   "outputs": [],
   "source": [
    "def correctADCPHeading(ADCP):\n",
    "    target = getGeoMagStrength()\n",
    "    \n",
    "    if top_mounted:\n",
    "        sign = -1\n",
    "    else:\n",
    "        sign = 1\n",
    "    \n",
    "    MagX = ADCP['MagnetometerX']\n",
    "    MagY = sign * ADCP['MagnetometerY']\n",
    "    MagZ = sign * ADCP['MagnetometerZ']\n",
    "    \n",
    "    simple = False\n",
    "    verysimple = False\n",
    "    softonly = False\n",
    "    \n",
    "    roll = ADCP['Roll']\n",
    "    pitch = ADCP['Pitch']\n",
    "    \n",
    "    norm    = lambda x,y,z : np.sqrt(x**2 + y**2 + z**2)\n",
    "    rmsd    = lambda x,y,z : np.sqrt( np.mean( ( norm(x,y,z) - target)**2 ) )\n",
    "    \n",
    "    cosd    = lambda x : np.cos(np.deg2rad(x))\n",
    "    sind    = lambda x : np.sin(np.deg2rad(x))\n",
    "    atan2d  = lambda x,y : np.rad2deg(np.arctan2(x,y))\n",
    "    rot_x   = lambda x,y,z : x*cosd(pitch) + y*sind(roll)*sind(pitch) + z*cosd(roll)*sind(pitch)\n",
    "    rot_y   = lambda x,y,z : y*cosd(roll) - z*sind(roll)\n",
    "    wrap    = lambda x : (x+360)%360\n",
    "    heading = lambda x,y,z : wrap( atan2d(rot_x(x,y,z),rot_y(x,y,z)) - 90 )\n",
    "    \n",
    "    def calibrate(x,y,z,coeffs):\n",
    "        if simple:\n",
    "            coeffs[[1,2,3,5,6,7]] = 0\n",
    "        if verysimple:\n",
    "            coeffs[:9] = 0\n",
    "        if softonly:\n",
    "            coeffs[-3:] = 0\n",
    "            \n",
    "        A = np.reshape(coeffs[:9],(3,3))\n",
    "        B = coeffs[-3:]\n",
    "        out = A @ np.array([x-B[0], y-B[1], z-B[2]])\n",
    "        return out[0,:],out[1,:],out[2,:]\n",
    "    \n",
    "    def minimisation(coeffs):\n",
    "        x,y,z = calibrate(MagX,MagY,MagZ,coeffs)\n",
    "        return rmsd(x,y,z)\n",
    "    \n",
    "    coeffs = fmin(minimisation,np.array([1,0,0,0,1,0,0,0,1,0,0,0]))\n",
    "    print(np.reshape(coeffs[:9],(3,3)))\n",
    "    print(coeffs[-3:])\n",
    "    \n",
    "    magx,magy,magz = calibrate(MagX.values, MagY.values, MagZ.values,coeffs)\n",
    "    cal_heading = heading(magx,magy,magz)\n",
    "    \n",
    "    plt.figure(figsize=(15,7))\n",
    "    \n",
    "    plt.subplot(211)\n",
    "    plt.plot(cal_heading - ADCP.Heading,'-k')\n",
    "    plt.plot(cal_heading - heading(MagX.values, MagY.values, MagZ.values),':y',alpha=0.4)\n",
    "    plt.plot(ADCP.Heading - heading(MagX.values, MagY.values, MagZ.values),'-r.',alpha=0.3)\n",
    "    plt.ylim([-5,5])\n",
    "    \n",
    "    plt.subplot(223)\n",
    "    plt.plot(norm(MagX.values, MagY.values, MagZ.values),'-k')\n",
    "    plt.plot(norm(magx,magy,magz),'-b')\n",
    "    plt.axhline(target)\n",
    "    \n",
    "    plt.subplot(224)\n",
    "    _ = plt.hist(wrap(cal_heading - ADCP.Heading),360)\n",
    "    \n",
    "    return cal_heading"
   ]
  },
  {
   "cell_type": "code",
   "execution_count": null,
   "id": "f2dac422-16dd-4d66-9aa4-a1dd3ebf026b",
   "metadata": {
    "collapsed": false,
    "jupyter": {
     "outputs_hidden": false
    },
    "pycharm": {
     "name": "#%%\n"
    }
   },
   "outputs": [],
   "source": [
    "attemptHeadingCorrection = True\n",
    "\n",
    "if attemptHeadingCorrection:\n",
    "    try:\n",
    "        ADCP['Heading'] = ('time', ADCP['Heading_old'].values)\n",
    "        print('Resetting to original heading')\n",
    "    except:\n",
    "        print('First run')\n",
    "    ADCP['Heading_old'] = ('time', ADCP['Heading'].values)\n",
    "    ADCP['Heading'] = ('time', correctADCPHeading(ADCP).values + interp(\n",
    "            data.data['Timestamp'].values.astype('float'), data.data['Declination'], ADCP.time.values.astype('float')\n",
    "            ))"
   ]
  },
  {
   "cell_type": "markdown",
   "id": "d56b8392-0983-4da0-9adf-4e14958c6fbd",
   "metadata": {},
   "source": [
    "### 4.2.b. Sound speed correction (TODO)"
   ]
  },
  {
   "cell_type": "code",
   "execution_count": null,
   "id": "8e67f7b7-396a-437d-aa17-9be016f140e1",
   "metadata": {
    "collapsed": false,
    "jupyter": {
     "outputs_hidden": false
    },
    "pycharm": {
     "name": "#%%\n"
    }
   },
   "outputs": [],
   "source": [
    "# ss,t,p = sx.grid2d(data.data['Timestamp'].values, data.data['pressure'].values, \n",
    "#                 gsw.sound_speed(data.data['sa'].values,data.data['ct'].values,data.data['pressure'].values), \n",
    "#                 xi=np.timedelta64(60,'m'), yi=1)\n",
    "# ss = ss.flatten()\n",
    "# t = t.astype('float').flatten()\n",
    "# p = p.flatten()\n",
    "# _gd = np.isfinite(ss)\n",
    "\n",
    "# ss_q = interp2d(t[_gd],p[_gd],ss[_gd], kind='linear', copy=False, bounds_error=True)\n",
    "\n",
    "# ADCP_time = np.tile(ADCP['time'].values.astype('float'), (len(ADCP.bin), 1)).T\n",
    "\n",
    "# # poo = ADCP['V1'] \\\n",
    "# #             * ( ss_q(ADCP_time, ADCP['D1']) \\\n",
    "# #             / np.tile(ADCP['Soundspeed'], (len(ADCP.bin), 1)).T )\n",
    "\n",
    "\n",
    "# def correctforSoundSpeed():\n",
    "#     # V(corr) = V(old) * (SoundSpeed(Real)/SoundSpeed(Instrument))\n",
    "\n",
    "#     ss = gsw.sound_speed(data.data['sa'].values,data.data['ct'].values,data.data['pressure'].values)\n",
    "#     t = data.data['Timestamp'].values.astype('float')\n",
    "#     _gd = np.isfinite(ss+t)\n",
    "#     ss_q = interp1d(t[_gd],ss[_gd], bounds_error=True, fill_value=np.NaN)\n",
    "    \n",
    "#     ADCP_time = np.tile(ADCP['time'].values.astype('float'), (len(ADCP.bin), 1)).T\n",
    "    \n",
    "#     ADCP['V1'] = ADCP['V1'] \\\n",
    "#             * ( ss_q(ADCP_time, ADCP['D1']) \\\n",
    "#             / np.tile(ADCP['Soundspeed'], (len(ADCP.bin), 1)).T )\n",
    "#     ADCP['V2'] = ADCP['V1'] \\\n",
    "#             * ( ss_q(ADCP_time, ADCP['D2']) \\\n",
    "#             / np.tile(ADCP['Soundspeed'], (len(ADCP.bin), 1)).T )\n",
    "#     ADCP['V3'] = ADCP['V1'] \\\n",
    "#             * ( ss_q(ADCP_time, ADCP['D3']) \\\n",
    "#             / np.tile(ADCP['Soundspeed'], (len(ADCP.bin), 1)).T )\n",
    "#     ADCP['V4'] = ADCP['V1'] \\\n",
    "#             * ( ss_q(ADCP_time, ADCP['D4']) \\\n",
    "#             / np.tile(ADCP['Soundspeed'], (len(ADCP.bin), 1)).T )\n",
    "    \n",
    "# # UNTESTED AND UNVALIDATED !!!!!! correctforSoundSpeed()"
   ]
  },
  {
   "cell_type": "markdown",
   "id": "7f7e6f04-2cf9-4d76-826b-53de18cdfb56",
   "metadata": {},
   "source": [
    "### 4.2.c. Pitching motion correction (TODO)"
   ]
  },
  {
   "cell_type": "code",
   "execution_count": null,
   "id": "639a0d97-e47e-4c85-82f6-658f802c07f8",
   "metadata": {
    "collapsed": false,
    "jupyter": {
     "outputs_hidden": false
    },
    "pycharm": {
     "name": "#%%\n"
    }
   },
   "outputs": [],
   "source": [
    "def ADCP_rotation_correction():\n",
    "    ADCP['dPitch_dt'] = (['time'], np.gradient(np.deg2rad(ADCP.Pitch.values),ADCP.time.values.astype('float')/(10**9)))\n",
    "    dx=0.4\n",
    "    dz=0.125\n",
    "    a=47.5\n",
    "    b=25\n",
    "    ADCP['VelocityBeam1'] = ADCP['VelocityBeam1'] + ADCP['dPitch_dt']*(-dz * np.sin(np.deg2rad(a)) + dx * np.cos(np.deg2rad(a)))\n",
    "    ADCP['VelocityBeam3'] = ADCP['VelocityBeam3'] + ADCP['dPitch_dt']*( dz * np.sin(np.deg2rad(a)) + dx * np.cos(np.deg2rad(a)))\n",
    "    ADCP['VelocityBeam2'] = ADCP['VelocityBeam2'] + ADCP['dPitch_dt']*( dx * np.cos(np.deg2rad(b)) )\n",
    "    ADCP['VelocityBeam4'] = ADCP['VelocityBeam4'] + ADCP['dPitch_dt']*( dx * np.cos(np.deg2rad(b)) )\n",
    "\n",
    "# ADCP_rotation_correction()\n",
    "### NOT RUNNING AS PROBABLY CODED FOR UPWARD FACING ADCP"
   ]
  },
  {
   "cell_type": "code",
   "execution_count": null,
   "id": "160e0ed9-2628-4630-93c1-98fe1daa12b7",
   "metadata": {
    "collapsed": false,
    "jupyter": {
     "outputs_hidden": false
    },
    "pycharm": {
     "name": "#%%\n"
    }
   },
   "outputs": [],
   "source": [
    "def ADCP_speed():\n",
    "    M11=0.6782; M12=0.0000; M13=-0.6782; M14=0.0000\n",
    "    M21=0.0000; M22=-1.1831; M23=0.0000; M24=1.1831\n",
    "    M31=0.7400; M32=0.0000; M33=0.7400; M34=0.0000\n",
    "    M41=0.0000; M42=0.5518; M43=0.0000; M44=0.5518\n",
    "    T = np.array([[M11,M12,M13,M14], [M21,M22,M23,M24], [M31,M32,M33,M34], [M41,M42,M43,M44]])\n",
    "    T[1:,:] = -T[1:,:]\n",
    "    print(T)\n",
    "    V = np.array([ADCP.isel(bin=0)['VelocityBeam1'],\n",
    "                  ADCP.isel(bin=0)['VelocityBeam2'],\n",
    "                  ADCP.isel(bin=0)['VelocityBeam3'],\n",
    "                  ADCP.isel(bin=0)['VelocityBeam4']\n",
    "                 ])\n",
    "\n",
    "    XYZZ = V*0\n",
    "\n",
    "    for col in np.arange(V.shape[1]):\n",
    "        XYZZ[:,col] = T@V[:,col]\n",
    "    XYZ = np.vstack((XYZZ[0:2,:],np.nanmean(XYZZ[2:,:],axis=0)))\n",
    "    print(np.shape(XYZ))\n",
    "    \n",
    "    \n",
    "    ADCP['GliderSpeed'] = ('time', np.sqrt(np.sum(XYZ**2, axis=0)))\n",
    "    \n",
    "ADCP_speed()"
   ]
  },
  {
   "cell_type": "markdown",
   "id": "29ec9c67-13a5-4369-a0ce-b59c3814e5d6",
   "metadata": {},
   "source": [
    "### 4.2.d. Outlier and poor correlation removal (TODO)"
   ]
  },
  {
   "cell_type": "code",
   "execution_count": null,
   "id": "9e949f3d-f571-4be1-b1bf-f03c317b05c4",
   "metadata": {
    "collapsed": false,
    "jupyter": {
     "outputs_hidden": false
    },
    "pycharm": {
     "name": "#%%\n"
    }
   },
   "outputs": [],
   "source": [
    "# From Tanaka:\n",
    "# the velocity was 0.5 m s-1 or less,\n",
    "# the echo intensity (or amplitude) was 75 dB or less,\n",
    "# the percent-good was 80 or greater,\n",
    "# the signal-to-noise ratio (SNR) was 20 or greater.\n",
    "\n",
    "for beam in ['1','2','3','4']:\n",
    "    C = ADCP['CorrelationBeam'+beam].values.copy()\n",
    "    C[C < 80] = np.NaN\n",
    "    C[np.isfinite(C)] = 1\n",
    "    \n",
    "    A = ADCP['AmplitudeBeam'+beam].values.copy()\n",
    "    A[A > 70] = np.NaN\n",
    "    A[np.isfinite(A)] = 1\n",
    "    \n",
    "    V = ADCP['VelocityBeam'+beam].values.copy()\n",
    "    V[np.abs(V) > 0.5] = np.NaN\n",
    "    V[np.isfinite(V)] = 1\n",
    "    \n",
    "    ADCP['VelocityBeam'+beam] = ADCP['VelocityBeam'+beam]*C*A*V"
   ]
  },
  {
   "cell_type": "markdown",
   "id": "db118023-ee9a-4289-8f8e-60e9a49bdb6b",
   "metadata": {},
   "source": [
    "## 4.3. Calculate depth of ADCP bins"
   ]
  },
  {
   "cell_type": "code",
   "execution_count": null,
   "id": "cc1435a4-7662-4923-b992-8b3e24cf0807",
   "metadata": {
    "collapsed": false,
    "jupyter": {
     "outputs_hidden": false
    },
    "pycharm": {
     "name": "#%%\n"
    }
   },
   "outputs": [],
   "source": [
    "def remapADCPdepth(ADCP, bin_size, blanking_distance, top_mounted=top_mounted):\n",
    "    if top_mounted:\n",
    "        direction = 1\n",
    "        theta_rad_1 = np.arccos(  np.cos(np.deg2rad(47.5 - ADCP['Pitch']))  * np.cos(np.deg2rad(ADCP['Roll']))  )\n",
    "        theta_rad_2 = np.arccos(  np.cos(np.deg2rad(25 -   ADCP['Roll'] ))  * np.cos(np.deg2rad(ADCP['Pitch']))  )\n",
    "        theta_rad_3 = np.arccos(  np.cos(np.deg2rad(47.5 + ADCP['Pitch']))  * np.cos(np.deg2rad(ADCP['Roll']))  )\n",
    "        theta_rad_4 = np.arccos(  np.cos(np.deg2rad(25 +   ADCP['Roll'] ))  * np.cos(np.deg2rad(ADCP['Pitch']))  )\n",
    "    else:\n",
    "        direction = -1\n",
    "        theta_rad_1 = np.arccos(  np.cos(np.deg2rad(47.5 + ADCP['Pitch']))  * np.cos(np.deg2rad(ADCP['Roll']))  )\n",
    "        theta_rad_2 = np.arccos(  np.cos(np.deg2rad(25 +   ADCP['Roll'] ))  * np.cos(np.deg2rad(ADCP['Pitch']))  )\n",
    "        theta_rad_3 = np.arccos(  np.cos(np.deg2rad(47.5 - ADCP['Pitch']))  * np.cos(np.deg2rad(ADCP['Roll']))  )\n",
    "        theta_rad_4 = np.arccos(  np.cos(np.deg2rad(25 -   ADCP['Roll'] ))  * np.cos(np.deg2rad(ADCP['Pitch']))  )\n",
    "        \n",
    "    # Upward facing ADCP, so beam 1 ~= 22 deg on the way up, beam 3 on the way down\n",
    "    # Returns angles of each beam from the UP direction\n",
    "    \n",
    "    \n",
    "    z_bin_distance = blanking_distance + np.arange(len(ADCP.bin))*bin_size + 0.5*bin_size\n",
    "    \n",
    "    ADCP['D1'] = (\n",
    "                   ['time','bin'],\n",
    "                   np.tile(ADCP['Depth'], (len(ADCP.bin), 1)).T \\\n",
    "                     - direction \\\n",
    "                     * np.tile(z_bin_distance/np.cos(np.deg2rad(47.5)), (len(ADCP.time), 1)) \\\n",
    "                     * np.tile(np.cos(theta_rad_1), (len(ADCP.bin), 1)).T \\\n",
    "                   )\n",
    "    ADCP['D2'] = (\n",
    "                   ['time','bin'],\n",
    "                   np.tile(ADCP['Depth'], (len(ADCP.bin), 1)).T \\\n",
    "                    - direction \\\n",
    "                    * np.tile(z_bin_distance/np.cos(np.deg2rad(25)), (len(ADCP.time), 1)) \\\n",
    "                    * np.tile(np.cos(theta_rad_2), (len(ADCP.bin), 1)).T \\\n",
    "                  )\n",
    "    ADCP['D3'] = (\n",
    "                   ['time','bin'],\n",
    "                   np.tile(ADCP['Depth'], (len(ADCP.bin), 1)).T \\\n",
    "                    - direction \\\n",
    "                    * np.tile(z_bin_distance/np.cos(np.deg2rad(47.5)), (len(ADCP.time), 1)) \\\n",
    "                    * np.tile(np.cos(theta_rad_3), (len(ADCP.bin), 1)).T \\\n",
    "                  )\n",
    "    ADCP['D4'] = (\n",
    "                   ['time','bin'],\n",
    "                   np.tile(ADCP['Depth'], (len(ADCP.bin), 1)).T \\\n",
    "                    - direction \\\n",
    "                    * np.tile(z_bin_distance/np.cos(np.deg2rad(25)), (len(ADCP.time), 1)) \\\n",
    "                    * np.tile(np.cos(theta_rad_4), (len(ADCP.bin), 1)).T \\\n",
    "                  )  \n",
    "    \n",
    "    plt.close('all')\n",
    "    plt.figure(figsize=(15,7))\n",
    "    x = np.arange(1000)\n",
    "    b = ADCP.bin.values[0::4]\n",
    "    \n",
    "    times = np.tile(ADCP.time[x].values, (len(b), 1)).T\n",
    "    \n",
    "    plt.subplot(211)\n",
    "    plt.plot(ADCP.time[x],ADCP.Pitch[x])\n",
    "    \n",
    "    plt.subplot(212)\n",
    "    plt.scatter(ADCP.time[x],ADCP.Pressure[x],5,'k')\n",
    "    plt.scatter(times.flatten(),ADCP.isel(time=x, bin=b)['D1'].values.flatten(),1,'g',alpha=0.4)\n",
    "    plt.scatter(times.flatten(),ADCP.isel(time=x, bin=b)['D2'].values.flatten(),1,'y',alpha=0.4)\n",
    "    plt.scatter(times.flatten(),ADCP.isel(time=x, bin=b)['D3'].values.flatten(),1,'b',alpha=0.4)\n",
    "    plt.scatter(times.flatten(),ADCP.isel(time=x, bin=b)['D4'].values.flatten(),1,'r',alpha=0.4)\n",
    "\n",
    "    plt.gca().invert_yaxis()\n",
    "\n",
    "    return ADCP\n",
    "\n",
    "ADCP = remapADCPdepth(ADCP,bin_size,blanking_distance)"
   ]
  },
  {
   "cell_type": "markdown",
   "id": "d3ca1e56-20ae-4872-8388-1338d3bc6a8c",
   "metadata": {},
   "source": [
    "## 4.4. Interpolate ADCP velocities onto isobars"
   ]
  },
  {
   "cell_type": "code",
   "execution_count": null,
   "id": "b00f8993-34f7-4157-aafe-3328840f3d10",
   "metadata": {
    "collapsed": false,
    "jupyter": {
     "outputs_hidden": false
    },
    "pycharm": {
     "name": "#%%\n"
    }
   },
   "outputs": [],
   "source": [
    "def calc_ideal_depth_offsets(bin_size, blanking_distance):\n",
    "    if top_mounted:\n",
    "        direction = 1\n",
    "    else:\n",
    "        direction = -1\n",
    "    threshold = 20\n",
    "    means = [np.nanmean(ADCP['CorrelationBeam'+str(x)],axis=0) for x in [1,2,3,4]]\n",
    "    stds = [np.nanstd(ADCP['CorrelationBeam'+str(x)],axis=0) for x in [1,2,3,4]]\n",
    "    \n",
    "    max_bin = np.argmin(abs(np.nanmean([means[x]-stds[x] for x in range(4)],axis=0)  - threshold))\n",
    "    max_distance = blanking_distance + max_bin*bin_size + 0.5*bin_size\n",
    "    \n",
    "    plt.close('all')\n",
    "    plt.figure(figsize=(15,7))\n",
    "    [plt.plot(means[x],'-k') for x in range(4)]\n",
    "    [plt.plot(means[x]+stds[x],':r') for x in range(4)]\n",
    "    [plt.plot(means[x]-stds[x],':r') for x in range(4)]\n",
    "    plt.plot([max_bin,max_bin],[0,100],'-g')\n",
    "    plt.title('Bin correlations')\n",
    "    \n",
    "    return np.arange(blanking_distance + 0.5*bin_size, max_distance, bin_size)*direction\n",
    "\n",
    "def regridADCPdata(ADCP, bin_size, blanking_distance, depth_offsets=None):\n",
    "    if depth_offsets is None:\n",
    "        depth_offsets = calc_ideal_depth_offsets(bin_size, blanking_distance)\n",
    "        print('Using the following depth offsets:')\n",
    "        print(depth_offsets)\n",
    "        print(' ')\n",
    "        print('Running gridding on all 4 beams:')\n",
    "    \n",
    "    V1 = np.full( (len(ADCP['time']), len(depth_offsets)), np.NaN)\n",
    "    adcp_depth = ADCP['Depth'].values\n",
    "    \n",
    "    for beam in [1,2,3,4]:\n",
    "        d = ADCP['D'+str(beam)].values\n",
    "        v = ADCP['VelocityBeam'+str(beam)].values\n",
    "        a = ADCP['AmplitudeBeam'+str(beam)].values\n",
    "        x = np.full( (len(ADCP['time']), len(depth_offsets)), np.NaN)\n",
    "        y = np.full( (len(ADCP['time']), len(depth_offsets)), np.NaN)\n",
    "        \n",
    "        for i in tqdm(range(len(ADCP['time']))):\n",
    "            x[i,:] = interp1d(d[i,:],v[i,:], bounds_error=False, fill_value=np.NaN)(adcp_depth[i] - depth_offsets)\n",
    "            y[i,:] = interp1d(d[i,:],a[i,:], bounds_error=False, fill_value=np.NaN)(adcp_depth[i] - depth_offsets)\n",
    "    \n",
    "        ADCP['V'+str(beam)] = (\n",
    "            ['time','gridded_bin'],\n",
    "            x\n",
    "            )\n",
    "        ADCP['A'+str(beam)] = (\n",
    "            ['time','gridded_bin'],\n",
    "            y\n",
    "            )\n",
    "    \n",
    "    ADCP = ADCP.assign_coords({'depth_offset':(['gridded_bin'], depth_offsets)})\n",
    "    ADCP = ADCP.assign_coords({'bin_depth':(['time','gridded_bin'], \n",
    "                                     np.tile(ADCP['Depth'].values.astype('float'), (len(ADCP.gridded_bin), 1)).T\n",
    "                                     - np.tile(depth_offsets, (len(ADCP.time), 1))\n",
    "                                    )})\n",
    "    \n",
    "    ADCP = ADCP.drop(labels=['D1','D2','D3','D4',\n",
    "                             'CorrelationBeam1','CorrelationBeam2','CorrelationBeam3','CorrelationBeam4',\n",
    "                             'VelocityBeam1','VelocityBeam2','VelocityBeam3','VelocityBeam4',\n",
    "                             'AmplitudeBeam1','AmplitudeBeam2','AmplitudeBeam3','AmplitudeBeam4'])\n",
    "    return ADCP\n",
    "\n",
    "ADCP = regridADCPdata(ADCP, bin_size,blanking_distance)\n",
    "\n",
    "ADCP"
   ]
  },
  {
   "cell_type": "markdown",
   "id": "98c5e462-a7cf-45f8-8556-29a7bc263a99",
   "metadata": {},
   "source": [
    "## 4.5. Transform beams to XYZ and ENU velocities"
   ]
  },
  {
   "cell_type": "code",
   "execution_count": null,
   "id": "1696b9c5-ef25-4861-b62d-b8056d9ab39d",
   "metadata": {
    "collapsed": false,
    "jupyter": {
     "outputs_hidden": false
    },
    "pycharm": {
     "name": "#%%\n"
    }
   },
   "outputs": [],
   "source": [
    "def calcXYZfrom3beam():\n",
    "    def sin(x):\n",
    "        return np.sin(np.deg2rad(x))\n",
    "    def cos(x):\n",
    "        return np.cos(np.deg2rad(x))\n",
    "\n",
    "    a = 47.5 # Beam 1 and 3 angle from Z\n",
    "    b = 25 # Beam 2 and 4 angle from Z\n",
    "\n",
    "    xyz2beam_fore = np.array([\n",
    "        [sin(a),0,cos(a)],\n",
    "        [0,-sin(b),cos(b)],\n",
    "        [0,sin(b),cos(b)]\n",
    "    ])\n",
    "    xyz2beam_aft = np.array([\n",
    "        [-sin(a),0,cos(a)],\n",
    "        [0,-sin(b),cos(b)],\n",
    "        [0,sin(b),cos(b)]\n",
    "    ])\n",
    "\n",
    "    beam2xyz_fore = np.linalg.inv(xyz2beam_fore)\n",
    "    beam2xyz_aft = np.linalg.inv(xyz2beam_aft)\n",
    "\n",
    "    V_fore = beam2xyz_fore @ np.array([\n",
    "        ADCP['V1'].values.flatten(),\n",
    "        ADCP['V2'].values.flatten(),\n",
    "        ADCP['V4'].values.flatten()\n",
    "        ])\n",
    "    V_aft = beam2xyz_aft @ np.array([\n",
    "        ADCP['V3'].values.flatten(),\n",
    "        ADCP['V2'].values.flatten(),\n",
    "        ADCP['V4'].values.flatten()\n",
    "        ])\n",
    "\n",
    "    if rmsd(V_aft[1:,:]-V_fore[1:,:]) != 0:\n",
    "        plt.plot(V_aft[1:,:]-V_fore[1:,:],'-kx')\n",
    "        print(rmsd(V_aft[1:,:]-V_fore[1:,:]))\n",
    "        print('Something is wrong - abort and investigate...')\n",
    "\n",
    "    X_fore = np.reshape( V_fore[0,:] , np.shape(ADCP['V1']) )\n",
    "    X_aft = np.reshape( V_aft[0,:] , np.shape(ADCP['V1']) )\n",
    "    \n",
    "    plt.close('all')\n",
    "    _ = plt.hist(X_fore.flatten(),np.linspace(-1,1,200),color='r',alpha=0.2)\n",
    "    _ = plt.hist(X_aft.flatten(),np.linspace(-1,1,200),color='y',alpha=0.2)\n",
    "    \n",
    "    use_aft_on_climb = ADCP['Pitch'] > 0\n",
    "    \n",
    "    X = X_fore.copy()\n",
    "    \n",
    "    if top_mounted == True:\n",
    "        print('Assuming ADCP is top mounted')\n",
    "        X[~use_aft_on_climb,:] = X_aft[~use_aft_on_climb,:]\n",
    "    else:\n",
    "        print('Assuming ADCP is bottom mounted')\n",
    "        X[use_aft_on_climb,:] = X_aft[use_aft_on_climb,:]\n",
    "    \n",
    "    \n",
    "    _ = plt.hist(X.flatten(),np.linspace(-1,1,200),color='g',alpha=0.2)\n",
    "    \n",
    "    ADCP['X'] = (['time','gridded_bin'], X )\n",
    "    ADCP['Y'] = (['time','gridded_bin'], np.reshape( V_aft[1,:] , np.shape(ADCP['V1']) ) )\n",
    "    ADCP['Z'] = (['time','gridded_bin'], np.reshape( V_aft[2,:] , np.shape(ADCP['V1']) ) )\n",
    "    \n",
    "    \n",
    "calcXYZfrom3beam()\n",
    "#gc.collect()"
   ]
  },
  {
   "cell_type": "code",
   "execution_count": null,
   "id": "659aae6b",
   "metadata": {
    "collapsed": false,
    "jupyter": {
     "outputs_hidden": false
    },
    "pycharm": {
     "name": "#%%\n"
    }
   },
   "outputs": [],
   "source": [
    "def calcENUfromXYZ():\n",
    "    def M_xyz2enu(heading,pitch,roll):\n",
    "        hh = np.pi*(heading-90)/180\n",
    "        pp = np.pi*pitch/180\n",
    "        rr = np.pi*roll/180\n",
    "\n",
    "        _H = np.array([\n",
    "            [np.cos(hh),np.sin(hh),0], \n",
    "            [-np.sin(hh),np.cos(hh),0], \n",
    "            [0,0,1]\n",
    "        ])\n",
    "        _P = np.array([\n",
    "            [np.cos(pp), 0, -np.sin(pp)] ,\n",
    "            [0, 1, 0] , \n",
    "            [ np.sin(pp), 0, np.cos(pp)]\n",
    "        ])\n",
    "        _R = np.array([\n",
    "            [1, 0, 0] ,\n",
    "            [0, np.cos(rr), -np.sin(rr)] , \n",
    "            [0, np.sin(rr), np.cos(rr)]\n",
    "        ])\n",
    "\n",
    "        _M = _H@_P@_R\n",
    "        return _M\n",
    "\n",
    "    H = ADCP['Heading'].values\n",
    "    P = ADCP['Pitch'].values\n",
    "    R = ADCP['Roll'].values\n",
    "\n",
    "    # H = interp(data.data['Timestamp'].values.astype('float'), data.data['Heading']+data.data['Declination'], ADCP.time.values.astype('float'))\n",
    "    # P = interp(data.data['Timestamp'].values.astype('float'), data.data['Pitch'], ADCP.time.values.astype('float'))\n",
    "    # R = interp(data.data['Timestamp'].values.astype('float'), data.data['Roll'], ADCP.time.values.astype('float'))\n",
    "    \n",
    "    \n",
    "    if top_mounted:\n",
    "        direction = 1\n",
    "    else:\n",
    "        direction = -1\n",
    "        \n",
    "    E = ADCP['X'].values.copy()\n",
    "    N = ADCP['Y'].values.copy()*direction\n",
    "    U = ADCP['Z'].values.copy()*direction\n",
    "\n",
    "    r,c = np.shape(E)\n",
    "    \n",
    "    for i in tqdm(range(r)):\n",
    "        XYZ2ENU = M_xyz2enu(H[i],P[i],R[i])\n",
    "        for j in range(c):\n",
    "            E[i,j], N[i,j], U[i,j] = XYZ2ENU @ [E[i,j], N[i,j], U[i,j]]\n",
    "\n",
    "    ADCP['E'] = (['time','gridded_bin'], E )\n",
    "    ADCP['N'] = (['time','gridded_bin'], N )\n",
    "    ADCP['U'] = (['time','gridded_bin'], U )\n",
    "\n",
    "calcENUfromXYZ()\n",
    "gc.collect()"
   ]
  },
  {
   "cell_type": "code",
   "execution_count": null,
   "id": "bfbd5e38",
   "metadata": {
    "collapsed": false,
    "jupyter": {
     "outputs_hidden": false
    },
    "pycharm": {
     "name": "#%%\n"
    }
   },
   "outputs": [],
   "source": [
    "def verify():\n",
    "    plt.figure()\n",
    "\n",
    "    PD = (ADCP['Pitch'].values < 0) & (ADCP['Depth'].values > 20)\n",
    "    PU = (ADCP['Pitch'].values > 0) & (ADCP['Depth'].values > 20)\n",
    "\n",
    "    print(np.count_nonzero(PD),np.count_nonzero(PU))\n",
    "\n",
    "    plt.subplot(511)\n",
    "    _ = plt.hist(ADCP.isel(time=PD)['X'].values.flatten(),np.linspace(-1,1,200),color='r')\n",
    "    _ = plt.hist(ADCP.isel(time=PU)['X'].values.flatten(),np.linspace(-1,1,200),color='b')\n",
    "    plt.title('Glider moving forward so expect X negative')\n",
    "\n",
    "    plt.subplot(513)\n",
    "    _ = plt.hist(ADCP.isel(time=PD)['U'].values.flatten(),np.linspace(-1,1,200),color='r')\n",
    "    plt.title('Glider diving so expect U positive')\n",
    "\n",
    "    plt.subplot(515)\n",
    "    _ = plt.hist(ADCP.isel(time=PU)['U'].values.flatten(),np.linspace(-1,1,200),color='b')\n",
    "    plt.title('Glider climbing so expect U negative')\n",
    "    \n",
    "verify()"
   ]
  },
  {
   "cell_type": "markdown",
   "id": "fb0c20de-d48e-4f83-9b9a-f07f0be20b36",
   "metadata": {},
   "source": [
    "## 4.6. Calculate shear"
   ]
  },
  {
   "cell_type": "code",
   "execution_count": null,
   "id": "ab28ffee",
   "metadata": {
    "collapsed": false,
    "jupyter": {
     "outputs_hidden": false
    },
    "pycharm": {
     "name": "#%%\n"
    }
   },
   "outputs": [],
   "source": [
    "ADCP['Sh_E'] = (['time','gridded_bin'],\n",
    "                  ADCP['E'].differentiate('gridded_bin').values\n",
    "                 )\n",
    "ADCP['Sh_N'] = (['time','gridded_bin'],\n",
    "                  ADCP['N'].differentiate('gridded_bin').values\n",
    "                 )\n",
    "ADCP['Sh_U'] = (['time','gridded_bin'],\n",
    "                  ADCP['U'].differentiate('gridded_bin').values\n",
    "                 )"
   ]
  },
  {
   "cell_type": "code",
   "execution_count": null,
   "id": "27a9683b-8eb9-4498-8639-ec6e49020bbe",
   "metadata": {},
   "outputs": [],
   "source": [
    "for beam in ['E','N','U']:\n",
    "    X = ADCP['Sh_'+beam].values.copy()\n",
    "    p = np.nanpercentile(X.flatten(),[1,99])\n",
    "    X[X < p[0]] = np.NaN\n",
    "    X[X > p[1]] = np.NaN\n",
    "    X[np.isfinite(X)] = 1\n",
    "        \n",
    "    ADCP['Sh_'+beam] = ADCP['Sh_'+beam]*X"
   ]
  },
  {
   "cell_type": "markdown",
   "id": "69808fac",
   "metadata": {},
   "source": [
    "# V. Flight model regression"
   ]
  },
  {
   "cell_type": "markdown",
   "id": "85637595",
   "metadata": {},
   "source": [
    "## 5.1. Regress model and extract flight speeds\n",
    "\n",
    "Should I lowpass filter velocities with a filter freq equal to N?"
   ]
  },
  {
   "cell_type": "code",
   "execution_count": null,
   "id": "5e1f9526",
   "metadata": {
    "collapsed": false,
    "jupyter": {
     "outputs_hidden": false
    },
    "pycharm": {
     "name": "#%%\n"
    }
   },
   "outputs": [],
   "source": [
    "def flight_model():      \n",
    "    importlib.reload(sx)\n",
    "    \n",
    "    # time, sal, temp_ext, temp_int, pres_ext, pres_int, lon, lat, ballast, pitch, profile, navresource, tau, adcp_speed, **param\n",
    "    flight = sx.SemiDynamicModel(\n",
    "           data.data.Timestamp, \n",
    "           data.data.salinity.interpolate('index').fillna(method='bfill').values, \n",
    "           data.data.temperature.interpolate('index').fillna(method='bfill').values, \n",
    "           data.data.Temperature.interpolate('index').fillna(method='bfill').values, \n",
    "           data.data.LEGATO_PRESSURE.interpolate('index').fillna(method='bfill').values, \n",
    "           data.data.Pa.interpolate('index').fillna(method='bfill').values, \n",
    "           data.data.longitude.interpolate('index').fillna(method='bfill').values, \n",
    "           data.data.latitude.interpolate('index').fillna(method='bfill').values, \n",
    "           data.data.BallastPos.interpolate('index').fillna(method='bfill').values, \n",
    "           data.data.Pitch.interpolate('index').fillna(method='bfill').values, \n",
    "           data.data.profileNum.interpolate('nearest').fillna(method='bfill').values,\n",
    "           data.data.NAV_RESOURCE.interpolate('nearest').fillna(method='bfill').values,\n",
    "           0.5,\n",
    "           interp(ADCP.time.values.astype('float'), ADCP.GliderSpeed, data.data.Timestamp.values.astype('float')),\n",
    "           mass=60.772, vol0=0.059077990061655435, \n",
    "           Cd_0=0.068891783927366, Cd_1=0.8210920513705997, Cl=1.9140152638563785, \n",
    "           comp_p=4.4e-06, comp_t=6.973743090064374e-05, \n",
    "           lag_t=0.55, SSStau=13)\n",
    "    \n",
    "    #flight.regression_parameters = ('Cd_0','Cd_1','Cl','vol0','comp_t', 'SSStau') # 'Cd_0','Cd_1','Cl','SSStau',     \n",
    "    flight.regression_parameters = ('Cd_0','Cd_1','Cl','vol0','comp_p','comp_t','SSStau','lag_t','area_w') # 'Cd_0','Cd_1','Cl','SSStau', \n",
    "    flight._valid[data.data.LEGATO_PRESSURE < 3] = False\n",
    "    # flight._valid[data.data.LEGATO_PRESSURE > 100] = False\n",
    "    flight.regress()\n",
    "\n",
    "    data.data['alpha'] = flight.alpha\n",
    "    data.data['speed'] = flight.speed\n",
    "    data.data['speed_vert'] = flight.speed_vert\n",
    "    data.data['speed_horz'] = flight.speed_horz\n",
    "    data.data['w_H2O'] = flight.w_H2O\n",
    "\n",
    "    return flight\n",
    "\n",
    "flight = flight_model()"
   ]
  },
  {
   "cell_type": "code",
   "execution_count": null,
   "id": "d2f17969-2169-44b6-8810-85929b54a3b7",
   "metadata": {},
   "outputs": [],
   "source": [
    "def verify(flight):\n",
    "    plt.figure(figsize=(20,15))\n",
    "\n",
    "    mask = flight._valid # & (np.sign(flight.dZdt) == -1)\n",
    "    \n",
    "    plt.subplot(331)\n",
    "    V,XI,YI = sx.grid2d(\n",
    "        data.data.profileNum[mask].values,\n",
    "        data.data.LEGATO_PRESSURE[mask].values, \n",
    "        flight.w_H2O[mask], \n",
    "        xi=xaxis, yi=yaxis, fn='mean')\n",
    "    DZ,XI,YI = sx.grid2d(\n",
    "        data.data.profileNum[mask].values,\n",
    "        data.data.LEGATO_PRESSURE[mask].values, \n",
    "        flight.dZdt[mask], \n",
    "        xi=xaxis, yi=yaxis, fn='mean')\n",
    "    SV,XI,YI = sx.grid2d(\n",
    "        data.data.profileNum[mask].values,\n",
    "        data.data.LEGATO_PRESSURE[mask].values, \n",
    "        flight.speed_vert[mask], \n",
    "        xi=xaxis, yi=yaxis, fn='mean')\n",
    "    \n",
    "    plt.pcolor(XI,YI,V,cmap=cmo.balance,shading='auto')\n",
    "    plt.colorbar()\n",
    "    plt.gca().invert_yaxis()\n",
    "    plt.clim([-0.02,0.02])\n",
    "    plt.title('W H2O')\n",
    "    \n",
    "    plt.subplot(332)\n",
    "    plt.pcolor(XI[:,::2]/2,YI[:,::2],V[:,::2]-V[:,1::2],cmap=cmo.balance,shading='auto')\n",
    "    plt.colorbar()\n",
    "    plt.gca().invert_yaxis()\n",
    "    plt.clim([-0.02,0.02])\n",
    "    plt.title('Up-Down (W H2O)')\n",
    "    \n",
    "    plt.subplot(333)\n",
    "    plt.axvline(0)\n",
    "    plt.plot(np.nanmean(V[:,::2],axis=1),yaxis,'-g')\n",
    "    plt.plot(np.nanmean(V[:,1::2],axis=1),yaxis,':g')\n",
    "    plt.plot(np.nanmean(DZ[:,::2],axis=1),yaxis,'-b')\n",
    "    plt.plot(np.nanmean(DZ[:,1::2],axis=1),yaxis,'-b')\n",
    "    plt.plot(np.nanmean(SV[:,::2],axis=1),yaxis,':r')\n",
    "    plt.plot(np.nanmean(SV[:,1::2],axis=1),yaxis,':r')\n",
    "    plt.xlim([-0.2, 0.2])\n",
    "    plt.gca().invert_yaxis()\n",
    "    \n",
    "    plt.subplot(334)\n",
    "    _ = plt.hist(flight.w_H2O.flatten(), np.linspace(-0.1,0.1,1000),alpha=0.2)\n",
    "    _ = plt.hist(flight.w_H2O[mask].flatten(), np.linspace(-0.1,0.1,1000),alpha=0.2)\n",
    "    plt.axvline(0)\n",
    "    plt.yscale('log')\n",
    "    \n",
    "    \n",
    "    plt.subplot(335)\n",
    "    _ = plt.hist(flight.speed[mask] - flight.speed_through_water[mask], np.linspace(-0.1,0.1,1000),alpha=0.2)\n",
    "    _ = plt.hist(flight.speed - flight.speed_through_water, np.linspace(-0.1,0.1,1000),alpha=0.2)\n",
    "    plt.axvline(0)\n",
    "    plt.yscale('log')\n",
    "    \n",
    "    plt.subplot(336)\n",
    "    V,XI,YI = sx.grid2d(\n",
    "        data.data.profileNum[mask].values,\n",
    "        data.data.LEGATO_PRESSURE[mask].values, \n",
    "        flight._valid[mask], \n",
    "        xi=xaxis, yi=yaxis, fn='sum')\n",
    "    plt.pcolor(XI,YI,V,cmap=cmo.dense,shading='auto')\n",
    "    plt.colorbar()\n",
    "    plt.gca().invert_yaxis()\n",
    "    # plt.clim([-0.02,0.02])\n",
    "    plt.title('Num valid points in regression')\n",
    "    \n",
    "    plt.subplot(337)\n",
    "    V,XI,YI = sx.grid2d(\n",
    "        data.data.profileNum[mask].values,\n",
    "        data.data.LEGATO_PRESSURE[mask].values, \n",
    "        flight.dZdt[mask], \n",
    "        xi=xaxis, yi=yaxis, fn='mean')\n",
    "    plt.pcolor(XI,YI,V,cmap=cmo.dense,shading='auto')\n",
    "    plt.colorbar()\n",
    "    plt.gca().invert_yaxis()\n",
    "    # plt.clim([-0.02,0.02])\n",
    "    plt.title('Vert speed')\n",
    "    \n",
    "    plt.subplot(338)\n",
    "    V,XI,YI = sx.grid2d(\n",
    "        data.data.profileNum[mask].values,\n",
    "        data.data.LEGATO_PRESSURE[mask].values, \n",
    "        np.rad2deg(flight.pitch[mask]), \n",
    "        xi=xaxis, yi=yaxis, fn='mean')\n",
    "    plt.pcolor(XI,YI,V,cmap=cmo.dense,shading='auto')\n",
    "    plt.colorbar()\n",
    "    plt.gca().invert_yaxis()\n",
    "    plt.clim([-30,0])\n",
    "    plt.title('Pitch')\n",
    "    \n",
    "    \n",
    "    plt.subplot(339)\n",
    "    V,XI,YI = sx.grid2d(\n",
    "        data.data.profileNum.values,\n",
    "        data.data.LEGATO_PRESSURE.values, \n",
    "        flight.w_H2O, \n",
    "        xi=1, yi=np.arange(0,1000,5), fn='mean')\n",
    "    SA,_,_ = sx.grid2d(\n",
    "        data.data.profileNum.values,\n",
    "        data.data.LEGATO_PRESSURE.values, \n",
    "        data.data.sa, \n",
    "        xi=1, yi=np.arange(-2.5,1002.5,5), fn='mean')\n",
    "    CT,_,YI2 =sx.grid2d(\n",
    "        data.data.profileNum.values,\n",
    "        data.data.LEGATO_PRESSURE.values, \n",
    "        data.data.ct, \n",
    "        xi=1, yi=np.arange(-2.5,1002.5,5), fn='mean')\n",
    "    N2,_ = gsw.Nsquared(SA,CT,YI2)\n",
    "    \n",
    "    plt.scatter(N2.flatten(),V.flatten()**2,2,'k',alpha=0.3)\n",
    "    plt.xlim([0,5e-4])\n",
    "    plt.ylim([0,5e-4])\n",
    "    \n",
    "verify(flight)"
   ]
  },
  {
   "cell_type": "markdown",
   "id": "4222a550",
   "metadata": {},
   "source": [
    "## 5.2. Calculate dive-averaged current"
   ]
  },
  {
   "cell_type": "code",
   "execution_count": null,
   "id": "df08c01c",
   "metadata": {
    "collapsed": false,
    "jupyter": {
     "outputs_hidden": false
    },
    "pycharm": {
     "name": "#%%\n"
    }
   },
   "outputs": [],
   "source": [
    "def _getDAC(data):\n",
    "    ## Calculate full x-y dead reckoning during each dive\n",
    "    def reset_transport_at_GPS(arr):\n",
    "        ffill = lambda arr: pd.DataFrame(arr).fillna(method='ffill').values.flatten()\n",
    "        ref = np.zeros(np.shape(arr)) * np.NaN\n",
    "        ref[_gps] = arr[_gps]\n",
    "        return (arr - ffill(ref))\n",
    "    \n",
    "    _gps = (data.data.DeadReckoning.values < 1) & (data.data.NAV_RESOURCE.values == 116)\n",
    "    \n",
    "    t = data.data.date_float.values * 1e-9\n",
    "    heading = interp(ADCP['time'].values.astype('float'), ADCP['Heading'].values, data.data.date_float.values)\n",
    "    # heading = (data.data['Heading'] + data.data['Declination']).interpolate('linear')\n",
    "    vg_e = np.nan_to_num(data.data['speed_horz'] *np.sin( heading * np.pi/180 ))\n",
    "    vg_n = np.nan_to_num(data.data['speed_horz'] *np.cos( heading * np.pi/180 ))\n",
    "\n",
    "    de = np.cumsum(np.append(0, vg_e[1:] * np.diff(t)))\n",
    "    dn = np.cumsum(np.append(0, vg_n[1:] * np.diff(t)))\n",
    "\n",
    "    de = reset_transport_at_GPS(de)\n",
    "    dn = reset_transport_at_GPS(dn)\n",
    "\n",
    "    ## Calculate on per dive basis\n",
    "    dnum = np.unique(data.data.diveNum.values)\n",
    "    sidx = np.zeros(np.shape(dnum))*np.NaN\n",
    "    didx = np.zeros(np.shape(dnum))*np.NaN\n",
    "    \n",
    "    for idx,dx in enumerate(dnum):\n",
    "        try:\n",
    "            sidx[idx] = np.flatnonzero((data.data.diveNum.values == dx) & _gps)[0]\n",
    "            didx[idx] = np.flatnonzero((data.data.diveNum.values == dx) & _gps)[-1]\n",
    "        except:\n",
    "            continue\n",
    "                        \n",
    "    _gd = np.isfinite(sidx+didx+dnum)\n",
    "    dnum = dnum[_gd]\n",
    "    sidx = sidx[_gd]\n",
    "    didx = didx[_gd]\n",
    "    \n",
    "    sidx = sidx.astype(int)\n",
    "    didx = didx.astype(int)\n",
    "   \n",
    "    surf_lat = data.data.latitude.values[sidx]\n",
    "    surf_lon = data.data.longitude[sidx]\n",
    "    surf_time = t[sidx]\n",
    "\n",
    "    dive_lat = data.data.latitude[didx]\n",
    "    dive_lon = data.data.longitude[didx]\n",
    "    dive_time = t[didx]\n",
    "\n",
    "    dr_e = np.zeros(np.shape(dnum)) * np.NaN\n",
    "    dr_n = np.zeros(np.shape(dnum)) * np.NaN\n",
    "    gps_e = np.zeros(np.shape(dnum)) * np.NaN\n",
    "    gps_n = np.zeros(np.shape(dnum)) * np.NaN\n",
    "    dt = np.zeros(np.shape(dnum)) * np.NaN\n",
    "    meant = np.zeros(np.shape(dnum)) * np.NaN\n",
    "\n",
    "    lon2m = lambda x,y : gsw.distance([x,x+1],[y,y])\n",
    "    lat2m = lambda x,y : gsw.distance([x,x],[y,y+1])\n",
    "    \n",
    "    for idx,dx in enumerate(dnum):\n",
    "        try:\n",
    "            dr_e[idx] = de[ sidx[idx+1]-1 ]\n",
    "            dr_n[idx] = dn[ sidx[idx+1]-1 ]\n",
    "            gps_e[idx] = (surf_lon[idx+1] - dive_lon[idx]) * lon2m(dive_lon[idx],dive_lat[idx])\n",
    "            gps_n[idx] = (surf_lat[idx+1] - dive_lat[idx]) * lat2m(dive_lon[idx],dive_lat[idx])\n",
    "            dt[idx] = surf_time[idx+1] - dive_time[idx]\n",
    "            meant[idx] = (surf_time[idx+1] + dive_time[idx])/2\n",
    "        except:\n",
    "            print('No final GPS for dive '+str(dx))\n",
    "\n",
    "    dac_e = (gps_e-dr_e)/dt\n",
    "    dac_n = (gps_n-dr_n)/dt\n",
    "    \n",
    "    plt.figure(figsize=(15,6))\n",
    "    plt.plot(pd.to_datetime(meant),dac_e,'o-r')\n",
    "    plt.plot(pd.to_datetime(meant),dac_n,'o-b')\n",
    "    plt.legend(('DAC E','DAC N'))\n",
    "\n",
    "    data.data['DAC_E'] = interp(meant, (gps_e-dr_e)/dt, t)\n",
    "    data.data['DAC_N'] = interp(meant, (gps_n-dr_n)/dt, t)\n",
    "    \n",
    "    data.data['DAC_E'] = data.data['DAC_E'].fillna(method='bfill').fillna(method='ffill')\n",
    "    data.data['DAC_N'] = data.data['DAC_N'].fillna(method='bfill').fillna(method='ffill')\n",
    "    \n",
    "_getDAC(data)"
   ]
  },
  {
   "cell_type": "code",
   "execution_count": null,
   "id": "a34b7cfd-a97c-4b04-8537-35041e274be8",
   "metadata": {},
   "outputs": [],
   "source": [
    "plt.figure(figsize=(15,7))\n",
    "\n",
    "E,X,Y = sx.grid2d(data.data.Timestamp.values.astype('float'), data.data.latitude, data.data.DAC_E, xi= 10**9 * 60 * 60 * 3, yi=0.01)\n",
    "\n",
    "N,X,Y = sx.grid2d(data.data.Timestamp.values.astype('float'), data.data.latitude, data.data.DAC_N, xi= 10**9 * 60 * 60 * 3, yi=0.01)\n",
    "\n",
    "plt.subplot(211)\n",
    "plt.scatter(X, Y, 100, E, cmap=cmo.balance)\n",
    "plt.colorbar()\n",
    "plt.title('East')\n",
    "\n",
    "plt.subplot(212)\n",
    "plt.scatter(X, Y, 100, N, cmap=cmo.balance)\n",
    "plt.colorbar()\n",
    "plt.title('North')"
   ]
  },
  {
   "cell_type": "markdown",
   "id": "226ec008-9b4f-415e-a95f-d8280e71a1dd",
   "metadata": {},
   "source": [
    "## 5.3 Get surface drift"
   ]
  },
  {
   "cell_type": "code",
   "execution_count": null,
   "id": "175c6bd4-4ad2-4ac2-8694-6aa13c340ed2",
   "metadata": {},
   "outputs": [],
   "source": [
    "def getSurfaceDrift():\n",
    "    _gps = (data.data.DeadReckoning.values < 1) & (data.data.NAV_RESOURCE.values == 116)\n",
    "    \n",
    "    lon2m = lambda x,y : gsw.distance([x,x+1],[y,y])\n",
    "    lat2m = lambda x,y : gsw.distance([x,x],[y,y+1])\n",
    "    \n",
    "    dnum = data.data.diveNum.values[_gps]\n",
    "    \n",
    "    lons = data.data.longitude.values[_gps]\n",
    "    lats = data.data.latitude.values[_gps]\n",
    "    \n",
    "    dlons = np.gradient(lons)\n",
    "    dlats = np.gradient(lats)\n",
    "        \n",
    "    for idx in range(len(lons)):\n",
    "        dlons[idx] = dlons[idx] * lon2m(lons[idx],lats[idx])\n",
    "        dlats[idx] = dlats[idx] * lat2m(lons[idx],lats[idx])\n",
    "    \n",
    "    times = data.data.Timestamp.values.astype('float')[_gps] / 10**9\n",
    "    dtimes = np.gradient(times)\n",
    "    \n",
    "    dE = np.full(int(np.nanmax(data.data.diveNum)), np.NaN)\n",
    "    dN = np.full(int(np.nanmax(data.data.diveNum)), np.NaN)\n",
    "    dT = np.full(int(np.nanmax(data.data.diveNum)), np.NaN)\n",
    "    \n",
    "    for idx in range(len(dE)):\n",
    "        _gd = (dtimes < 21) & (dnum == idx+1)\n",
    "        dE[idx] = np.nanmedian(dlons[_gd]/dtimes[_gd])\n",
    "        dN[idx] = np.nanmedian(dlats[_gd]/dtimes[_gd])\n",
    "        dT[idx] = np.nanmean(times[_gd])\n",
    "    \n",
    "    dT = dT * 10**9\n",
    "    \n",
    "    plt.figure(figsize=(15,7))\n",
    "    plt.subplot(211)\n",
    "    plt.plot(pd.to_datetime(dT),dE,'.-r')\n",
    "    plt.title('U')\n",
    "    plt.subplot(212)\n",
    "    plt.plot(pd.to_datetime(dT),dN,'.-r')\n",
    "    plt.title('V')\n",
    "    \n",
    "    return dE,dN,dT\n",
    "    \n",
    "    \n",
    "dE,dN,dT = getSurfaceDrift()"
   ]
  },
  {
   "cell_type": "markdown",
   "id": "78d8332a-e9e1-4981-ad60-185d84e3746a",
   "metadata": {},
   "source": [
    "## 5.4. Reference ADCP data"
   ]
  },
  {
   "cell_type": "code",
   "execution_count": null,
   "id": "0ba2e2c2",
   "metadata": {
    "collapsed": false,
    "jupyter": {
     "outputs_hidden": false
    },
    "pycharm": {
     "name": "#%%\n"
    }
   },
   "outputs": [],
   "source": [
    "def verify():\n",
    "    x = np.arange(0,np.shape(ADCP.Sh_E.values)[0],1)\n",
    "\n",
    "    SHEm,XI,YI = sx.grid2d(\n",
    "        np.tile(ADCP.profileNum.values, (len(ADCP.gridded_bin), 1)).T[x,:].flatten(),\n",
    "        ADCP.bin_depth.values[x,:].flatten(), \n",
    "        ADCP.Sh_E.values[x,:].flatten(), \n",
    "        xi=1, yi=5, fn='mean')\n",
    "    SHEs,XI,YI = sx.grid2d(\n",
    "        np.tile(ADCP.profileNum.values, (len(ADCP.gridded_bin), 1)).T[x,:].flatten(),\n",
    "        ADCP.bin_depth.values[x,:].flatten(), \n",
    "        ADCP.Sh_E.values[x,:].flatten(), \n",
    "        xi=1, yi=5, fn='std')\n",
    "    SHEn,XI,YI = sx.grid2d(\n",
    "        np.tile(ADCP.profileNum.values, (len(ADCP.gridded_bin), 1)).T[x,:].flatten(),\n",
    "        ADCP.bin_depth.values[x,:].flatten(), \n",
    "        ADCP.Sh_E.values[x,:].flatten(), \n",
    "        xi=1, yi=5, fn='count')\n",
    "\n",
    "    plt.figure(figsize=(15,12))\n",
    "\n",
    "    plt.subplot(221)\n",
    "    plt.pcolor(XI,YI,np.abs(SHEs*100/SHEm))\n",
    "    plt.colorbar()\n",
    "    plt.clim([0,300])\n",
    "    plt.ylim([0,500])\n",
    "    plt.gca().invert_yaxis()\n",
    "\n",
    "    plt.subplot(223)\n",
    "    plt.pcolor(XI,YI,SHEm)\n",
    "    plt.colorbar()\n",
    "    plt.ylim([0,500])\n",
    "    plt.clim([-0.05,0.05])\n",
    "    plt.gca().invert_yaxis()\n",
    "\n",
    "    plt.subplot(224)\n",
    "    plt.pcolor(XI,YI,SHEs)\n",
    "    plt.colorbar()\n",
    "    plt.ylim([0,500])\n",
    "    plt.clim([0,0.01])\n",
    "    plt.gca().invert_yaxis()\n",
    "\n",
    "    plt.subplot(222)\n",
    "    _ = plt.hist(SHEs.flatten(), np.linspace(0,0.05,100))\n",
    "    \n",
    "verify()"
   ]
  },
  {
   "cell_type": "code",
   "execution_count": null,
   "id": "0863b3b8-015e-4fcf-be5c-142525a06b0d",
   "metadata": {
    "collapsed": false,
    "jupyter": {
     "outputs_hidden": false
    },
    "pycharm": {
     "name": "#%%\n"
    }
   },
   "outputs": [],
   "source": [
    "def verify():\n",
    "    var = ['E','N']\n",
    "    \n",
    "    plt.figure(figsize=(20,15))\n",
    "    \n",
    "    days = np.unique(data.data.Timestamp.round('D'))\n",
    "    for pstep in range(len(var)):\n",
    "        \n",
    "        letter = var[pstep]\n",
    "        # Grid shear to average out sensor + zooplankton noise\n",
    "        Sh,XI,YI = sx.grid2d(\n",
    "            np.tile(ADCP.profileNum.values, (len(ADCP.gridded_bin), 1)).T.flatten(),\n",
    "            ADCP.bin_depth.values.flatten(), \n",
    "            ADCP['Sh_'+letter].values.flatten(), \n",
    "            xi=xaxis, yi=yaxis, fn='median')\n",
    "\n",
    "        # Integrate shear vertically\n",
    "        _bd = ~np.isfinite(Sh) # Preserve what are originally NaN values to recover later as need conversion to 0 for cumsum-\n",
    "        Sh = np.nan_to_num(Sh) # Replace NaNs with 0 for cumsum\n",
    "        V = np.cumsum(Sh,axis=0)*y_res # Cumulative sum of shear to recover velocity profile\n",
    "        V[_bd] = np.NaN # Return NaNs to their rightful place.\n",
    "        V = V - np.tile(np.nanmean(V, axis=0), (np.shape(V)[0],1)) # Make mean of baroclinic profiles equal to 0\n",
    "\n",
    "        # Grid DAC\n",
    "        DAC,XI,YI = sx.grid2d(\n",
    "            data.data.profileNum.values,\n",
    "            data.data.LEGATO_PRESSURE.values, \n",
    "            data.data['DAC_'+letter].values, \n",
    "            xi=xaxis, yi=yaxis, fn='mean')\n",
    "\n",
    "        # Grid vertical speed\n",
    "        dPdz,XI,YI = sx.grid2d(\n",
    "            data.data.profileNum.values,\n",
    "            data.data.LEGATO_PRESSURE.values, \n",
    "            data.data['speed_vert'].values, \n",
    "            xi=xaxis, yi=yaxis, fn='mean')\n",
    "\n",
    "        # Grid salinity\n",
    "        SA,XI,YI = sx.grid2d(\n",
    "            data.data.profileNum.values,\n",
    "            data.data.LEGATO_PRESSURE.values, \n",
    "            data.data.sa.values, \n",
    "            xi=xaxis, yi=yaxis, fn='mean')\n",
    "\n",
    "        # Seconds spent in each depth bin, to weight referencing\n",
    "        SpB = y_res / dPdz\n",
    "        SpB[np.isinf(SpB)] = 0\n",
    "        strictness = 1\n",
    "        SpB_std = np.nanstd(SpB.flatten())\n",
    "        SpB[ np.abs(SpB) > (strictness*SpB_std) ] = strictness*SpB_std\n",
    "\n",
    "        # Baroclinic velocity, weighted by depth residence time, should be equal to DAC\n",
    "        # So the reference to add to a baroclinic profile of mean = 0 is the DAC - the weighted baroclinic velocity.    \n",
    "        Ref = np.nanmean(DAC, axis=0)  -  np.nansum(V*SpB, axis=0)/np.nansum(SpB, axis=0)\n",
    "\n",
    "        # Now we reference the velocity\n",
    "        V = V +  np.tile(Ref, (np.shape(V)[0],1))\n",
    "\n",
    "        # Smooth for cosmetics:\n",
    "        smoothness = 1\n",
    "        for istep in range(np.shape(V)[0]):\n",
    "            V[istep,:] = RunningMean(V[istep,:],smoothness)\n",
    "\n",
    "        plt.subplot(4,1, pstep+1)\n",
    "        plt.pcolor(taxis,yaxis,V,cmap=cmo.balance,shading='auto')\n",
    "        plt.clim([-0.5,0.5])\n",
    "        plt.colorbar()\n",
    "        [plt.axvline(x, color='k', alpha=0.3) for x in days]\n",
    "        plt.contour(taxis,yaxis,SA,np.linspace(35.5,38.5,6),colors='k',alpha=0.3)\n",
    "        plt.gca().invert_yaxis()\n",
    "        plt.xlabel('Yo number')\n",
    "        plt.xlabel('Depth')\n",
    "        plt.title(letter+'-ward velocity (m.s-1)')\n",
    "        \n",
    "        out['ADCP_'+letter] = V\n",
    "    \n",
    "        plt.subplot(4,2, pstep+5)\n",
    "        plt.plot(taxis,RunningMean(np.nanmean(V, axis=0),smoothness),'-k',alpha=0.8)\n",
    "        plt.plot(taxis,RunningMean(np.nanmean(DAC, axis=0),smoothness),'-y',alpha=0.8)\n",
    "        plt.plot(taxis,np.nanmean(V, axis=0),'-k',alpha=0.2)\n",
    "        plt.plot(taxis,np.nanmean(DAC, axis=0),'-y',alpha=0.2)\n",
    "        plt.legend(('ADCP '+letter,'DAC '+letter))\n",
    "        plt.ylim([-0.5,0.5])\n",
    "        \n",
    "        plt.subplot(4,2, pstep+7)\n",
    "        max_depth = 19\n",
    "        plt.plot(taxis,np.nanmean(V[:max_depth,:], axis=0),'-k',alpha=0.1)\n",
    "        plt.plot(taxis,RunningMean(np.nanmean(V[:max_depth,:], axis=0),3),'-k',alpha=0.5)\n",
    "        plt.plot(taxis,RunningMean(np.nanmean(V[:max_depth,:], axis=0) - np.nanstd(V[:max_depth,:], axis=0),3),'-k',alpha=0.2)\n",
    "        plt.plot(taxis,RunningMean(np.nanmean(V[:max_depth,:], axis=0) + np.nanstd(V[:max_depth,:], axis=0),3),'-k',alpha=0.2)\n",
    "        _gd = np.isfinite(dN+dE)\n",
    "        if pstep==0:\n",
    "            plt.plot(pd.to_datetime(dT[_gd]),dE[_gd],'-og')\n",
    "        else:\n",
    "            plt.plot(pd.to_datetime(dT[_gd]),dN[_gd],'-og')   \n",
    "        plt.legend(('Surf ADCP '+letter,'Drift '+letter))\n",
    "        plt.ylim([-0.5,0.5])\n",
    "    \n",
    "    \n",
    "    plt.savefig(filename[:filename.rfind('/')+1]+'currents.png', bbox_inches='tight')\n",
    "    \n",
    "verify()"
   ]
  },
  {
   "cell_type": "markdown",
   "id": "e9005272",
   "metadata": {},
   "source": [
    "# VI. Grid and plot data"
   ]
  },
  {
   "cell_type": "code",
   "execution_count": null,
   "id": "7362e1a0",
   "metadata": {
    "collapsed": false,
    "jupyter": {
     "outputs_hidden": false
    },
    "pycharm": {
     "name": "#%%\n"
    }
   },
   "outputs": [],
   "source": [
    "def _grid_glider_data(data): \n",
    "    \n",
    "    vars_mean = ['FLBBPE_BB_700_SCALED', 'FLBBPE_CHL_SCALED', 'FLBBPE_PE_SCALED', 'salinity', 'temperature',\n",
    "                'OCR504_Ed1', 'OCR504_Ed2', 'OCR504_Ed3', 'OCR504_Ed4', 'diveNum', 'longitude', 'latitude', 'sa', 'ct',\n",
    "                'sigma0', 'o2', 'BB700_smoothed',\n",
    "                'w_H2O', 'date_float','FLNTU_CHL_SCALED', 'profileNum', 'depth', 'pressure','LEGATO_PRESSURE']\n",
    "    grid_mean = lambda name : sx.grid2d(data.profileNum.values, data.LEGATO_PRESSURE.values, data[name].values, xi=xaxis, yi=yaxis, fn='mean')[0]\n",
    "\n",
    "    for varname in tqdm(vars_mean):\n",
    "        try:\n",
    "            out[varname] = grid_mean(varname)          \n",
    "        except:\n",
    "            print('Variable \"'+varname+'\" failed to grid.')\n",
    "    return out\n",
    "\n",
    "def _plot_glider_data(out):\n",
    "    # ti = pd.to_datetime(np.nanmean(out['date_float'],axis=1), utc=True, origin='unix', cache='False')\n",
    "    # print(ti)\n",
    "    # ti[ti < pd.to_datetime('2021-10-01 00:00:00')] = np.NaN\n",
    "    \n",
    "    for varname in tqdm(out.keys()):\n",
    "        # try:\n",
    "        plt.close('all')\n",
    "\n",
    "        plt.figure(figsize=(18,7))\n",
    "\n",
    "        plt.contourf(taxis,yaxis,out[varname],60,cmap=cmo.haline)\n",
    "        plt.colorbar()\n",
    "\n",
    "        plt.contour(taxis,yaxis,out['sigma0'],np.arange(20,40,0.5),colors='w', linestyles='-', linewidths=0.5)\n",
    "\n",
    "        plt.ylim([0,1000])\n",
    "        plt.gca().invert_yaxis()\n",
    "        plt.savefig(filename[:filename.rfind('/')+1]+'deep_'+varname+'.png', bbox_inches='tight')\n",
    "\n",
    "        plt.ylim([0,150])\n",
    "        plt.gca().invert_yaxis()\n",
    "        plt.savefig(filename[:filename.rfind('/')+1]+'shallow_'+varname+'.png', bbox_inches='tight')\n",
    "        # except:\n",
    "        #         print('Variable \"'+varname+'\" failed to plot.')\n",
    "    plt.close('all')\n",
    "    return None\n"
   ]
  },
  {
   "cell_type": "code",
   "execution_count": null,
   "id": "7041b242",
   "metadata": {
    "collapsed": false,
    "jupyter": {
     "outputs_hidden": false
    },
    "pycharm": {
     "name": "#%%\n"
    }
   },
   "outputs": [],
   "source": [
    "out = _grid_glider_data(data.data)\n",
    "\n",
    "ADCP_pnum = np.tile(ADCP.profileNum, (len(ADCP.gridded_bin),1)).T\n",
    "out['Sh_E'] = sx.grid2d(ADCP_pnum.flatten(), ADCP.bin_depth.values.flatten(), ADCP.Sh_E.values.flatten(), xi=xaxis, yi=yaxis, fn='mean')[0]\n",
    "out['Sh_N'] = sx.grid2d(ADCP_pnum.flatten(), ADCP.bin_depth.values.flatten(), ADCP.Sh_N.values.flatten(), xi=xaxis, yi=yaxis, fn='mean')[0]\n",
    "out['Sh_U'] = sx.grid2d(ADCP_pnum.flatten(), ADCP.bin_depth.values.flatten(), ADCP.Sh_U.values.flatten(), xi=xaxis, yi=yaxis, fn='mean')[0]\n",
    "\n",
    "out['ABS'] = sx.grid2d(ADCP_pnum.flatten(), ADCP.bin_depth.values.flatten(), \n",
    "                          (ADCP.A1.values.flatten()+ADCP.A2.values.flatten()+ADCP.A3.values.flatten()+ADCP.A4.values.flatten())/4,\n",
    "                          xi=xaxis, yi=yaxis, fn='mean')[0]\n",
    "\n",
    "_plot_glider_data(out)"
   ]
  },
  {
   "cell_type": "code",
   "execution_count": null,
   "id": "56b52cc3-2dba-4ba6-b05e-857d4bf5a6ea",
   "metadata": {},
   "outputs": [],
   "source": [
    "def exportCSVfiles():\n",
    "    for key in out:\n",
    "        print(key)\n",
    "        np.savetxt(filename[:filename.rfind('/')+1]+key+'.csv', out[key], delimiter=\",\")\n",
    "        \n",
    "# exportCSVfiles()"
   ]
  }
 ],
 "metadata": {
  "kernelspec": {
   "display_name": "Python 3 (ipykernel)",
   "language": "python",
   "name": "python3"
  },
  "language_info": {
   "codemirror_mode": {
    "name": "ipython",
    "version": 3
   },
   "file_extension": ".py",
   "mimetype": "text/x-python",
   "name": "python",
   "nbconvert_exporter": "python",
   "pygments_lexer": "ipython3",
   "version": "3.8.12"
  }
 },
 "nbformat": 4,
 "nbformat_minor": 5
}
