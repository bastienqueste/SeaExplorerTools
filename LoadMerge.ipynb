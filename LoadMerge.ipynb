{
 "cells": [
  {
   "cell_type": "code",
   "execution_count": 1,
   "id": "b3486867-8891-4b62-afea-b787269c4786",
   "metadata": {},
   "outputs": [],
   "source": [
    "import importlib, os, gc, sys\n",
    "sys.path.append(r'D:/Storage/Repositories/SeaExplorerTools')\n",
    "sys.path.append(r'D:/Storage/Repositories/BYQTools')\n",
    "\n",
    "from tqdm.notebook import tqdm\n",
    "import numpy as np\n",
    "import pandas as pd\n",
    "import xarray as xr\n",
    "import matplotlib.pyplot as plt\n",
    "from scipy.interpolate import interp1d\n",
    "from scipy.optimize import fsolve, fmin\n",
    "from scipy.signal import convolve as conv\n",
    "import gsw\n",
    "import cmocean.cm as cmo\n",
    "\n",
    "import SXBQ as sx\n",
    "import BYQtools as byq"
   ]
  },
  {
   "cell_type": "code",
   "execution_count": 2,
   "id": "8a488046-40b6-443c-b73d-39b5f4f83571",
   "metadata": {},
   "outputs": [],
   "source": [
    "missions = {'SEA063':np.arange(17,23)}"
   ]
  },
  {
   "cell_type": "code",
   "execution_count": 4,
   "id": "b3b3d86c-3df3-4c0f-8f23-679cb4da491a",
   "metadata": {},
   "outputs": [
    {
     "name": "stdout",
     "output_type": "stream",
     "text": [
      "['sea063.17.pld1.raw.1.gz' 'sea063.17.pld1.raw.10.gz'\n",
      " 'sea063.17.pld1.raw.100.gz' ... 'sea063.17.pld1.raw.997.gz'\n",
      " 'sea063.17.pld1.raw.998.gz' 'sea063.17.pld1.raw.999.gz']\n"
     ]
    },
    {
     "name": "stderr",
     "output_type": "stream",
     "text": [
      " 42%|████████████████▏                      | 634/1522 [03:18<04:34,  3.23it/s]D:\\Storage/Repositories/SeaExplorerTools\\SXBQ.py:21: DtypeWarning: Columns (11) have mixed types.Specify dtype option on import or set low_memory=False.\n",
      "  self.load_gzfiles(k)\n",
      "100%|██████████████████████████████████████| 1522/1522 [08:08<00:00,  3.12it/s]\n"
     ]
    },
    {
     "name": "stdout",
     "output_type": "stream",
     "text": [
      "['sea063.17.gli.sub.1.gz' 'sea063.17.gli.sub.10.gz'\n",
      " 'sea063.17.gli.sub.100.gz' ... 'sea063.17.gli.sub.997.gz'\n",
      " 'sea063.17.gli.sub.998.gz' 'sea063.17.gli.sub.999.gz']\n"
     ]
    },
    {
     "name": "stderr",
     "output_type": "stream",
     "text": [
      "100%|██████████████████████████████████████| 1522/1522 [00:43<00:00, 34.81it/s]\n"
     ]
    },
    {
     "name": "stdout",
     "output_type": "stream",
     "text": [
      "Saving to D:/Storage/Dropbox/Jupyter/Data/Bornholm_SEA063_M17.pqt\n",
      "['sea063.18.pld1.raw.10.gz' 'sea063.18.pld1.raw.100.gz'\n",
      " 'sea063.18.pld1.raw.1000.gz' ... 'sea063.18.pld1.raw.997.gz'\n",
      " 'sea063.18.pld1.raw.998.gz' 'sea063.18.pld1.raw.999.gz']\n"
     ]
    },
    {
     "name": "stderr",
     "output_type": "stream",
     "text": [
      "100%|██████████████████████████████████████| 1350/1350 [08:04<00:00,  2.79it/s]\n"
     ]
    },
    {
     "name": "stdout",
     "output_type": "stream",
     "text": [
      "['sea063.18.gli.sub.1.gz' 'sea063.18.gli.sub.10.gz'\n",
      " 'sea063.18.gli.sub.100.gz' ... 'sea063.18.gli.sub.997.gz'\n",
      " 'sea063.18.gli.sub.998.gz' 'sea063.18.gli.sub.999.gz']\n"
     ]
    },
    {
     "name": "stderr",
     "output_type": "stream",
     "text": [
      "100%|██████████████████████████████████████| 1353/1353 [00:40<00:00, 33.19it/s]\n"
     ]
    },
    {
     "name": "stdout",
     "output_type": "stream",
     "text": [
      "Saving to D:/Storage/Dropbox/Jupyter/Data/Bornholm_SEA063_M18.pqt\n",
      "['sea063.19.pld1.raw.10.gz' 'sea063.19.pld1.raw.100.gz'\n",
      " 'sea063.19.pld1.raw.1000.gz' ... 'sea063.19.pld1.raw.997.gz'\n",
      " 'sea063.19.pld1.raw.998.gz' 'sea063.19.pld1.raw.999.gz']\n"
     ]
    },
    {
     "name": "stderr",
     "output_type": "stream",
     "text": [
      "100%|██████████████████████████████████████| 1634/1634 [09:51<00:00,  2.76it/s]\n"
     ]
    },
    {
     "name": "stdout",
     "output_type": "stream",
     "text": [
      "['sea063.19.gli.sub.1.gz' 'sea063.19.gli.sub.10.gz'\n",
      " 'sea063.19.gli.sub.100.gz' ... 'sea063.19.gli.sub.997.gz'\n",
      " 'sea063.19.gli.sub.998.gz' 'sea063.19.gli.sub.999.gz']\n"
     ]
    },
    {
     "name": "stderr",
     "output_type": "stream",
     "text": [
      "100%|██████████████████████████████████████| 1637/1637 [00:33<00:00, 48.49it/s]\n"
     ]
    },
    {
     "name": "stdout",
     "output_type": "stream",
     "text": [
      "Saving to D:/Storage/Dropbox/Jupyter/Data/Bornholm_SEA063_M19.pqt\n",
      "['sea063.20.pld1.raw.1.gz' 'sea063.20.pld1.raw.10.gz'\n",
      " 'sea063.20.pld1.raw.100.gz' ... 'sea063.20.pld1.raw.997.gz'\n",
      " 'sea063.20.pld1.raw.998.gz' 'sea063.20.pld1.raw.999.gz']\n"
     ]
    },
    {
     "name": "stderr",
     "output_type": "stream",
     "text": [
      "100%|██████████████████████████████████████| 1457/1457 [09:12<00:00,  2.64it/s]\n"
     ]
    },
    {
     "name": "stdout",
     "output_type": "stream",
     "text": [
      "['sea063.20.gli.sub.1.gz' 'sea063.20.gli.sub.10.gz'\n",
      " 'sea063.20.gli.sub.100.gz' ... 'sea063.20.gli.sub.997.gz'\n",
      " 'sea063.20.gli.sub.998.gz' 'sea063.20.gli.sub.999.gz']\n"
     ]
    },
    {
     "name": "stderr",
     "output_type": "stream",
     "text": [
      "100%|██████████████████████████████████████| 1457/1457 [00:41<00:00, 35.39it/s]\n"
     ]
    },
    {
     "name": "stdout",
     "output_type": "stream",
     "text": [
      "Saving to D:/Storage/Dropbox/Jupyter/Data/Bornholm_SEA063_M20.pqt\n",
      "['sea063.21.pld1.raw.1.gz' 'sea063.21.pld1.raw.10.gz'\n",
      " 'sea063.21.pld1.raw.100.gz' ... 'sea063.21.pld1.raw.997.gz'\n",
      " 'sea063.21.pld1.raw.998.gz' 'sea063.21.pld1.raw.999.gz']\n"
     ]
    },
    {
     "name": "stderr",
     "output_type": "stream",
     "text": [
      "100%|██████████████████████████████████████| 1304/1304 [08:00<00:00,  2.71it/s]\n"
     ]
    },
    {
     "name": "stdout",
     "output_type": "stream",
     "text": [
      "['sea063.21.gli.sub.1.gz' 'sea063.21.gli.sub.10.gz'\n",
      " 'sea063.21.gli.sub.100.gz' ... 'sea063.21.gli.sub.997.gz'\n",
      " 'sea063.21.gli.sub.998.gz' 'sea063.21.gli.sub.999.gz']\n"
     ]
    },
    {
     "name": "stderr",
     "output_type": "stream",
     "text": [
      "100%|██████████████████████████████████████| 1304/1304 [00:35<00:00, 36.88it/s]\n"
     ]
    },
    {
     "name": "stdout",
     "output_type": "stream",
     "text": [
      "Saving to D:/Storage/Dropbox/Jupyter/Data/Bornholm_SEA063_M21.pqt\n",
      "['sea063.22.pld1.raw.1.gz' 'sea063.22.pld1.raw.10.gz'\n",
      " 'sea063.22.pld1.raw.100.gz' ... 'sea063.22.pld1.raw.997.gz'\n",
      " 'sea063.22.pld1.raw.998.gz' 'sea063.22.pld1.raw.999.gz']\n"
     ]
    },
    {
     "name": "stderr",
     "output_type": "stream",
     "text": [
      "100%|██████████████████████████████████████| 1402/1402 [08:02<00:00,  2.90it/s]\n"
     ]
    },
    {
     "name": "stdout",
     "output_type": "stream",
     "text": [
      "['sea063.22.gli.sub.1.gz' 'sea063.22.gli.sub.10.gz'\n",
      " 'sea063.22.gli.sub.100.gz' ... 'sea063.22.gli.sub.997.gz'\n",
      " 'sea063.22.gli.sub.998.gz' 'sea063.22.gli.sub.999.gz']\n"
     ]
    },
    {
     "name": "stderr",
     "output_type": "stream",
     "text": [
      "100%|██████████████████████████████████████| 1402/1402 [00:18<00:00, 76.07it/s]\n"
     ]
    },
    {
     "name": "stdout",
     "output_type": "stream",
     "text": [
      "Saving to D:/Storage/Dropbox/Jupyter/Data/Bornholm_SEA063_M22.pqt\n"
     ]
    }
   ],
   "source": [
    "def assemble():\n",
    "    for k in missions.keys():\n",
    "        for m in missions[k]:        \n",
    "            sx.sxdf(['D:/Storage/Dropbox/VOTO_Data/7_SAMBA_004/SEA063_PLD089/SEA063_M'+str(m)+'/2_Sorted/4_PLD_raw', 'D:/Storage/Dropbox/VOTO_Data/7_SAMBA_004/SEA063_PLD089/SEA063_M'+str(m)+'/2_Sorted/2_NAV']).save('D:/Storage/Dropbox/Jupyter/Data/Bornholm_'+k+'_M'+str(m)+'.pqt')\n",
    "\n",
    "assemble()"
   ]
  },
  {
   "cell_type": "code",
   "execution_count": 7,
   "id": "5bf0647e-f4e2-409a-acd5-bd323276ffb2",
   "metadata": {},
   "outputs": [
    {
     "name": "stdout",
     "output_type": "stream",
     "text": [
      "Saving to D:/Storage/Dropbox/Jupyter/Data/Bornholm_SEA063_M17-22.pqt\n"
     ]
    }
   ],
   "source": [
    "def merge_pqt():\n",
    "    data = sx.sxdf()\n",
    "    \n",
    "    for k in missions.keys():\n",
    "        for m in missions[k]:   \n",
    "            print(k,m)\n",
    "            _tmp = pd.read_parquet('D:/Storage/Dropbox/Jupyter/Data/Bornholm_'+k+'_M'+str(m)+'.pqt')\n",
    "            _tmp['diveNum'] = _tmp['diveNum'] + (m * 1e6)\n",
    "            data.data = data.data.append(_tmp,ignore_index=True)\n",
    "            gc.collect()\n",
    "    data.save('D:/Storage/Dropbox/Jupyter/Data/Bornholm_SEA063_M17-22.pqt')\n",
    "\n",
    "merge_pqt()"
   ]
  },
  {
   "cell_type": "code",
   "execution_count": 3,
   "id": "61438d5d-62ac-4f1c-a878-4ce3287e7df9",
   "metadata": {},
   "outputs": [
    {
     "name": "stdout",
     "output_type": "stream",
     "text": [
      "Loaded D:/Storage/Dropbox/Jupyter/Data/Bornholm_SEA063_M17-22.pqt\n",
      "Parsing GPS data from NAV files and creating latitude and longitude variables.\n",
      "True GPS values are marked as false in variable \"DeadReckoning\".\n",
      "Saving to D:/Storage/Dropbox/Jupyter/Data/Bornholm_SEA063_M17-22.pqt\n"
     ]
    }
   ],
   "source": [
    "def streamline():\n",
    "    data = sx.load('D:/Storage/Dropbox/Jupyter/Data/Bornholm_SEA063_M17-22.pqt')\n",
    "    _,b = np.unique(data.data['diveNum'].values,return_inverse=True)\n",
    "    data.data['diveNum'] = b\n",
    "\n",
    "    data.process_basic_variables()\n",
    "    data.save('D:/Storage/Dropbox/Jupyter/Data/Bornholm_SEA063_M17-22.pqt')\n",
    "\n",
    "streamline()"
   ]
  },
  {
   "cell_type": "code",
   "execution_count": null,
   "id": "70fc1281-ec2f-44d1-bb21-cb9599cae10d",
   "metadata": {},
   "outputs": [],
   "source": []
  }
 ],
 "metadata": {
  "kernelspec": {
   "display_name": "Python 3 (ipykernel)",
   "language": "python",
   "name": "python3"
  },
  "language_info": {
   "codemirror_mode": {
    "name": "ipython",
    "version": 3
   },
   "file_extension": ".py",
   "mimetype": "text/x-python",
   "name": "python",
   "nbconvert_exporter": "python",
   "pygments_lexer": "ipython3",
   "version": "3.8.12"
  }
 },
 "nbformat": 4,
 "nbformat_minor": 5
}
