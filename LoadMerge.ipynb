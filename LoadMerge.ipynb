{
 "cells": [
  {
   "cell_type": "code",
   "execution_count": null,
   "id": "b3486867-8891-4b62-afea-b787269c4786",
   "metadata": {},
   "outputs": [],
   "source": [
    "import importlib, os, gc, sys\n",
    "from pathlib import Path\n",
    "sys.path.append(r'D:/Storage/Repositories/SeaExplorerTools')\n",
    "sys.path.append(r'D:/Storage/Repositories/BYQTools')\n",
    "\n",
    "from tqdm.notebook import tqdm\n",
    "import numpy as np\n",
    "import SXBQ as sx"
   ]
  },
  {
   "cell_type": "code",
   "execution_count": null,
   "id": "769f03ad-381e-47b0-9da9-aeb03c42e256",
   "metadata": {},
   "outputs": [],
   "source": [
    "Datasets = {66: [10,12,14],\n",
    "            63: [17,18,19,20,21,22,33],\n",
    "            61: [38,39,40,42,43,48,50],\n",
    "            56: [40,],\n",
    "            55: [16,18,19,20,21,24,28,31],\n",
    "            45: [48,54],\n",
    "            44: [40,48]}"
   ]
  },
  {
   "cell_type": "code",
   "execution_count": null,
   "id": "0aa4c7e7-dc61-4b07-8291-dd7776ac5d6b",
   "metadata": {},
   "outputs": [],
   "source": [
    "def getPaths(gnum,mnum,minnum):\n",
    "    out = []\n",
    "    rglob = 'sea'+str(gnum).zfill(3)+'.'+str(mnum).zfill(2)+'.pld1.raw.'+str(minnum)+'*.gz'\n",
    "    for path in Path('D:/Storage/Dropbox/VOTO_Data').rglob(rglob):\n",
    "        path = str(path)\n",
    "        out.append(path[:path[:-3].rfind('.')]+'*.gz')\n",
    "        break\n",
    "    rglob = 'sea'+str(gnum).zfill(3)+'.'+str(mnum).zfill(2)+'.gli.sub.'+str(minnum)+'*.gz'\n",
    "    for path in Path('D:/Storage/Dropbox/VOTO_Data').rglob(rglob):\n",
    "        path = str(path)\n",
    "        out.append(path[:path[:-3].rfind('.')]+'*.gz')\n",
    "        break\n",
    "    return out\n",
    "\n",
    "def processData(gnum,mnum,minnum):\n",
    "    paths = getPaths(gnum,mnum,minnum)\n",
    "    print(paths)\n",
    "    data = sx.sxdf(paths)\n",
    "    data.process_basic_variables()\n",
    "    data.save('D:/Storage/Datasets/Bornholm/sea'+str(gnum).zfill(3)+'.'+str(mnum).zfill(2)+'.pqt')\n",
    "    return None\n",
    "              \n",
    "for gnum in Datasets:\n",
    "    for mnum in Datasets[gnum]:\n",
    "        print('Processing',gnum,mnum)\n",
    "        processData(gnum,mnum,50)"
   ]
  },
  {
   "cell_type": "code",
   "execution_count": null,
   "id": "5bf0647e-f4e2-409a-acd5-bd323276ffb2",
   "metadata": {},
   "outputs": [],
   "source": [
    "def merge_pqt():\n",
    "    data = sx.sxdf()\n",
    "    \n",
    "    for k in missions.keys():\n",
    "        for m in missions[k]:   \n",
    "            print(k,m)\n",
    "            _tmp = pd.read_parquet('D:/Storage/Dropbox/Jupyter/Data/Bornholm_'+k+'_M'+str(m)+'.pqt')\n",
    "            _tmp['diveNum'] = _tmp['diveNum'] + (m * 1e6)\n",
    "            data.data = data.data.append(_tmp,ignore_index=True)\n",
    "            gc.collect()\n",
    "    data.save('D:/Storage/Dropbox/Jupyter/Data/Bornholm_SEA063_M17-22.pqt')\n",
    "\n",
    "merge_pqt()"
   ]
  },
  {
   "cell_type": "code",
   "execution_count": null,
   "id": "61438d5d-62ac-4f1c-a878-4ce3287e7df9",
   "metadata": {},
   "outputs": [],
   "source": [
    "def streamline():\n",
    "    data = sx.load('D:/Storage/Dropbox/Jupyter/Data/Bornholm_SEA063_M17-22.pqt')\n",
    "    _,b = np.unique(data.data['diveNum'].values,return_inverse=True)\n",
    "    data.data['diveNum'] = b\n",
    "\n",
    "    data.process_basic_variables()\n",
    "    data.save('D:/Storage/Dropbox/Jupyter/Data/Bornholm_SEA063_M17-22.pqt')\n",
    "\n",
    "streamline()"
   ]
  },
  {
   "cell_type": "code",
   "execution_count": null,
   "id": "70fc1281-ec2f-44d1-bb21-cb9599cae10d",
   "metadata": {},
   "outputs": [],
   "source": []
  }
 ],
 "metadata": {
  "kernelspec": {
   "display_name": "Python 3 (ipykernel)",
   "language": "python",
   "name": "python3"
  },
  "language_info": {
   "codemirror_mode": {
    "name": "ipython",
    "version": 3
   },
   "file_extension": ".py",
   "mimetype": "text/x-python",
   "name": "python",
   "nbconvert_exporter": "python",
   "pygments_lexer": "ipython3",
   "version": "3.10.5"
  }
 },
 "nbformat": 4,
 "nbformat_minor": 5
}
